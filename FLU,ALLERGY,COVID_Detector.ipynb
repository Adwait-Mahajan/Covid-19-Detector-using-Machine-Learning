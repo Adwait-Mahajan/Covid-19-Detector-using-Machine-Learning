{
  "nbformat": 4,
  "nbformat_minor": 0,
  "metadata": {
    "colab": {
      "provenance": []
    },
    "kernelspec": {
      "name": "python3",
      "display_name": "Python 3"
    },
    "language_info": {
      "name": "python"
    }
  },
  "cells": [
    {
      "cell_type": "code",
      "metadata": {
        "colab": {
          "base_uri": "https://localhost:8080/"
        },
        "id": "qTa_Fbi6YgKF",
        "outputId": "8c760c75-1203-40e3-c873-53c0d6c9acc8"
      },
      "source": [
        "!pip install kaggle --upgrade\n",
        "!mkdir -p ~/.kaggle/\n",
        "!cp kaggle.json ~/.kaggle/\n",
        "!chmod 600 ~/.kaggle/kaggle.json\n",
        "!kaggle datasets download -d walterconway/covid-flu-cold-symptoms"
      ],
      "execution_count": null,
      "outputs": [
        {
          "output_type": "stream",
          "text": [
            "Requirement already satisfied: kaggle in /usr/local/lib/python3.7/dist-packages (1.5.12)\n",
            "Requirement already satisfied: requests in /usr/local/lib/python3.7/dist-packages (from kaggle) (2.23.0)\n",
            "Requirement already satisfied: urllib3 in /usr/local/lib/python3.7/dist-packages (from kaggle) (1.24.3)\n",
            "Requirement already satisfied: python-slugify in /usr/local/lib/python3.7/dist-packages (from kaggle) (5.0.2)\n",
            "Requirement already satisfied: python-dateutil in /usr/local/lib/python3.7/dist-packages (from kaggle) (2.8.2)\n",
            "Requirement already satisfied: certifi in /usr/local/lib/python3.7/dist-packages (from kaggle) (2021.5.30)\n",
            "Requirement already satisfied: six>=1.10 in /usr/local/lib/python3.7/dist-packages (from kaggle) (1.15.0)\n",
            "Requirement already satisfied: tqdm in /usr/local/lib/python3.7/dist-packages (from kaggle) (4.62.0)\n",
            "Requirement already satisfied: text-unidecode>=1.3 in /usr/local/lib/python3.7/dist-packages (from python-slugify->kaggle) (1.3)\n",
            "Requirement already satisfied: chardet<4,>=3.0.2 in /usr/local/lib/python3.7/dist-packages (from requests->kaggle) (3.0.4)\n",
            "Requirement already satisfied: idna<3,>=2.5 in /usr/local/lib/python3.7/dist-packages (from requests->kaggle) (2.10)\n",
            "Downloading covid-flu-cold-symptoms.zip to /content\n",
            "  0% 0.00/210k [00:00<?, ?B/s]\n",
            "100% 210k/210k [00:00<00:00, 42.1MB/s]\n"
          ],
          "name": "stdout"
        }
      ]
    },
    {
      "cell_type": "code",
      "metadata": {
        "colab": {
          "base_uri": "https://localhost:8080/"
        },
        "id": "ontR0RXZZDIG",
        "outputId": "b9755167-6603-4090-bd05-a9e57191113d"
      },
      "source": [
        "!unzip /content/covid-flu-cold-symptoms.zip"
      ],
      "execution_count": null,
      "outputs": [
        {
          "output_type": "stream",
          "text": [
            "Archive:  /content/covid-flu-cold-symptoms.zip\n",
            "  inflating: large_data.csv          \n"
          ],
          "name": "stdout"
        }
      ]
    },
    {
      "cell_type": "code",
      "metadata": {
        "id": "gEgL0dlHZOCA"
      },
      "source": [
        "import numpy as np\n",
        "import pandas as pd\n",
        "import seaborn as sns\n",
        "import matplotlib.pyplot as plt\n",
        "%matplotlib inline"
      ],
      "execution_count": null,
      "outputs": []
    },
    {
      "cell_type": "code",
      "metadata": {
        "id": "q_5T3hOIZVO0"
      },
      "source": [
        "df = pd.read_csv('/content/large_data.csv')"
      ],
      "execution_count": null,
      "outputs": []
    },
    {
      "cell_type": "code",
      "metadata": {
        "colab": {
          "base_uri": "https://localhost:8080/"
        },
        "id": "ZxppqvVbZdpk",
        "outputId": "b54daa93-ab05-4515-f8a6-529947bb55ce"
      },
      "source": [
        "df['TYPE'].unique()"
      ],
      "execution_count": null,
      "outputs": [
        {
          "output_type": "execute_result",
          "data": {
            "text/plain": [
              "array(['ALLERGY', 'COLD', 'COVID', 'FLU'], dtype=object)"
            ]
          },
          "metadata": {
            "tags": []
          },
          "execution_count": 14
        }
      ]
    },
    {
      "cell_type": "code",
      "metadata": {
        "colab": {
          "base_uri": "https://localhost:8080/"
        },
        "id": "Dd9QbRXmZeaI",
        "outputId": "b9fbb8bf-4234-4c0c-ff45-534f85200b2d"
      },
      "source": [
        "df['TYPE'].value_counts()"
      ],
      "execution_count": null,
      "outputs": [
        {
          "output_type": "execute_result",
          "data": {
            "text/plain": [
              "FLU        25000\n",
              "ALLERGY    16381\n",
              "COVID       2048\n",
              "COLD        1024\n",
              "Name: TYPE, dtype: int64"
            ]
          },
          "metadata": {
            "tags": []
          },
          "execution_count": 15
        }
      ]
    },
    {
      "cell_type": "code",
      "metadata": {
        "colab": {
          "base_uri": "https://localhost:8080/",
          "height": 350
        },
        "id": "3pebXnF6Zy9L",
        "outputId": "c98201f4-f1d6-4f62-f0c4-de1522d273db"
      },
      "source": [
        "sns.countplot(df['TYPE'])"
      ],
      "execution_count": null,
      "outputs": [
        {
          "output_type": "stream",
          "text": [
            "/usr/local/lib/python3.7/dist-packages/seaborn/_decorators.py:43: FutureWarning: Pass the following variable as a keyword arg: x. From version 0.12, the only valid positional argument will be `data`, and passing other arguments without an explicit keyword will result in an error or misinterpretation.\n",
            "  FutureWarning\n"
          ],
          "name": "stderr"
        },
        {
          "output_type": "execute_result",
          "data": {
            "text/plain": [
              "<matplotlib.axes._subplots.AxesSubplot at 0x7fe6bcf39f50>"
            ]
          },
          "metadata": {
            "tags": []
          },
          "execution_count": 16
        },
        {
          "output_type": "display_data",
          "data": {
            "image/png": "[encoded data removed]",
            "text/plain": [
              "<Figure size 432x288 with 1 Axes>"
            ]
          },
          "metadata": {
            "tags": [],
            "needs_background": "light"
          }
        }
      ]
    },
    {
      "cell_type": "code",
      "metadata": {
        "colab": {
          "base_uri": "https://localhost:8080/",
          "height": 399
        },
        "id": "g4nuLTLUZ2RS",
        "outputId": "c777946e-890c-4ea6-dc74-f26034f01cbd"
      },
      "source": [
        "sns.heatmap(df.corr())"
      ],
      "execution_count": null,
      "outputs": [
        {
          "output_type": "execute_result",
          "data": {
            "text/plain": [
              "<matplotlib.axes._subplots.AxesSubplot at 0x7fe6bcdbe3d0>"
            ]
          },
          "metadata": {
            "tags": []
          },
          "execution_count": 17
        },
        {
          "output_type": "display_data",
          "data": {
            "image/png": "[encoded data removed]",
            "text/plain": [
              "<Figure size 432x288 with 2 Axes>"
            ]
          },
          "metadata": {
            "tags": [],
            "needs_background": "light"
          }
        }
      ]
    },
    {
      "cell_type": "code",
      "metadata": {
        "id": "tYhx039-Zm7d"
      },
      "source": [
        "df = pd.get_dummies(df, columns=['TYPE'])"
      ],
      "execution_count": null,
      "outputs": []
    },
    {
      "cell_type": "code",
      "metadata": {
        "colab": {
          "base_uri": "https://localhost:8080/",
          "height": 224
        },
        "id": "nve7eMqsZu1d",
        "outputId": "6848856b-43bc-4abc-9309-15b7c5a9097b"
      },
      "source": [
        "df.head()"
      ],
      "execution_count": null,
      "outputs": [
        {
          "output_type": "execute_result",
          "data": {
            "text/html": [
              "<div>\n",
              "<style scoped>\n",
              "    .dataframe tbody tr th:only-of-type {\n",
              "        vertical-align: middle;\n",
              "    }\n",
              "\n",
              "    .dataframe tbody tr th {\n",
              "        vertical-align: top;\n",
              "    }\n",
              "\n",
              "    .dataframe thead th {\n",
              "        text-align: right;\n",
              "    }\n",
              "</style>\n",
              "<table border=\"1\" class=\"dataframe\">\n",
              "  <thead>\n",
              "    <tr style=\"text-align: right;\">\n",
              "      <th></th>\n",
              "      <th>COUGH</th>\n",
              "      <th>MUSCLE_ACHES</th>\n",
              "      <th>TIREDNESS</th>\n",
              "      <th>SORE_THROAT</th>\n",
              "      <th>RUNNY_NOSE</th>\n",
              "      <th>STUFFY_NOSE</th>\n",
              "      <th>FEVER</th>\n",
              "      <th>NAUSEA</th>\n",
              "      <th>VOMITING</th>\n",
              "      <th>DIARRHEA</th>\n",
              "      <th>SHORTNESS_OF_BREATH</th>\n",
              "      <th>DIFFICULTY_BREATHING</th>\n",
              "      <th>LOSS_OF_TASTE</th>\n",
              "      <th>LOSS_OF_SMELL</th>\n",
              "      <th>ITCHY_NOSE</th>\n",
              "      <th>ITCHY_EYES</th>\n",
              "      <th>ITCHY_MOUTH</th>\n",
              "      <th>ITCHY_INNER_EAR</th>\n",
              "      <th>SNEEZING</th>\n",
              "      <th>PINK_EYE</th>\n",
              "      <th>TYPE_ALLERGY</th>\n",
              "      <th>TYPE_COLD</th>\n",
              "      <th>TYPE_COVID</th>\n",
              "      <th>TYPE_FLU</th>\n",
              "    </tr>\n",
              "  </thead>\n",
              "  <tbody>\n",
              "    <tr>\n",
              "      <th>0</th>\n",
              "      <td>0</td>\n",
              "      <td>0</td>\n",
              "      <td>1</td>\n",
              "      <td>0</td>\n",
              "      <td>1</td>\n",
              "      <td>0</td>\n",
              "      <td>0</td>\n",
              "      <td>0</td>\n",
              "      <td>0</td>\n",
              "      <td>0</td>\n",
              "      <td>0</td>\n",
              "      <td>0</td>\n",
              "      <td>1</td>\n",
              "      <td>0</td>\n",
              "      <td>1</td>\n",
              "      <td>0</td>\n",
              "      <td>0</td>\n",
              "      <td>1</td>\n",
              "      <td>0</td>\n",
              "      <td>1</td>\n",
              "      <td>1</td>\n",
              "      <td>0</td>\n",
              "      <td>0</td>\n",
              "      <td>0</td>\n",
              "    </tr>\n",
              "    <tr>\n",
              "      <th>1</th>\n",
              "      <td>0</td>\n",
              "      <td>0</td>\n",
              "      <td>1</td>\n",
              "      <td>0</td>\n",
              "      <td>0</td>\n",
              "      <td>0</td>\n",
              "      <td>0</td>\n",
              "      <td>0</td>\n",
              "      <td>0</td>\n",
              "      <td>0</td>\n",
              "      <td>0</td>\n",
              "      <td>0</td>\n",
              "      <td>1</td>\n",
              "      <td>0</td>\n",
              "      <td>1</td>\n",
              "      <td>0</td>\n",
              "      <td>1</td>\n",
              "      <td>1</td>\n",
              "      <td>1</td>\n",
              "      <td>1</td>\n",
              "      <td>1</td>\n",
              "      <td>0</td>\n",
              "      <td>0</td>\n",
              "      <td>0</td>\n",
              "    </tr>\n",
              "    <tr>\n",
              "      <th>2</th>\n",
              "      <td>0</td>\n",
              "      <td>1</td>\n",
              "      <td>1</td>\n",
              "      <td>1</td>\n",
              "      <td>0</td>\n",
              "      <td>0</td>\n",
              "      <td>0</td>\n",
              "      <td>0</td>\n",
              "      <td>0</td>\n",
              "      <td>0</td>\n",
              "      <td>0</td>\n",
              "      <td>0</td>\n",
              "      <td>1</td>\n",
              "      <td>0</td>\n",
              "      <td>1</td>\n",
              "      <td>0</td>\n",
              "      <td>0</td>\n",
              "      <td>0</td>\n",
              "      <td>0</td>\n",
              "      <td>1</td>\n",
              "      <td>1</td>\n",
              "      <td>0</td>\n",
              "      <td>0</td>\n",
              "      <td>0</td>\n",
              "    </tr>\n",
              "    <tr>\n",
              "      <th>3</th>\n",
              "      <td>0</td>\n",
              "      <td>0</td>\n",
              "      <td>0</td>\n",
              "      <td>1</td>\n",
              "      <td>1</td>\n",
              "      <td>0</td>\n",
              "      <td>0</td>\n",
              "      <td>0</td>\n",
              "      <td>0</td>\n",
              "      <td>0</td>\n",
              "      <td>0</td>\n",
              "      <td>0</td>\n",
              "      <td>1</td>\n",
              "      <td>1</td>\n",
              "      <td>0</td>\n",
              "      <td>0</td>\n",
              "      <td>1</td>\n",
              "      <td>0</td>\n",
              "      <td>1</td>\n",
              "      <td>1</td>\n",
              "      <td>1</td>\n",
              "      <td>0</td>\n",
              "      <td>0</td>\n",
              "      <td>0</td>\n",
              "    </tr>\n",
              "    <tr>\n",
              "      <th>4</th>\n",
              "      <td>0</td>\n",
              "      <td>0</td>\n",
              "      <td>1</td>\n",
              "      <td>0</td>\n",
              "      <td>1</td>\n",
              "      <td>0</td>\n",
              "      <td>0</td>\n",
              "      <td>0</td>\n",
              "      <td>0</td>\n",
              "      <td>0</td>\n",
              "      <td>0</td>\n",
              "      <td>0</td>\n",
              "      <td>1</td>\n",
              "      <td>1</td>\n",
              "      <td>0</td>\n",
              "      <td>1</td>\n",
              "      <td>0</td>\n",
              "      <td>1</td>\n",
              "      <td>1</td>\n",
              "      <td>1</td>\n",
              "      <td>1</td>\n",
              "      <td>0</td>\n",
              "      <td>0</td>\n",
              "      <td>0</td>\n",
              "    </tr>\n",
              "  </tbody>\n",
              "</table>\n",
              "</div>"
            ],
            "text/plain": [
              "   COUGH  MUSCLE_ACHES  TIREDNESS  ...  TYPE_COLD  TYPE_COVID  TYPE_FLU\n",
              "0      0             0          1  ...          0           0         0\n",
              "1      0             0          1  ...          0           0         0\n",
              "2      0             1          1  ...          0           0         0\n",
              "3      0             0          0  ...          0           0         0\n",
              "4      0             0          1  ...          0           0         0\n",
              "\n",
              "[5 rows x 24 columns]"
            ]
          },
          "metadata": {
            "tags": []
          },
          "execution_count": 20
        }
      ]
    },
    {
      "cell_type": "code",
      "metadata": {
        "colab": {
          "base_uri": "https://localhost:8080/",
          "height": 395
        },
        "id": "oVyHjB2MZvit",
        "outputId": "e7465167-ea25-4025-d775-ba480548ef01"
      },
      "source": [
        "df.corr()['TYPE_ALLERGY'].sort_values()[:-1].plot(kind='bar')"
      ],
      "execution_count": null,
      "outputs": [
        {
          "output_type": "execute_result",
          "data": {
            "text/plain": [
              "<matplotlib.axes._subplots.AxesSubplot at 0x7fe6b45f7f50>"
            ]
          },
          "metadata": {
            "tags": []
          },
          "execution_count": 26
        },
        {
          "output_type": "display_data",
          "data": {
            "image/png": "[encoded data removed]",
            "text/plain": [
              "<Figure size 432x288 with 1 Axes>"
            ]
          },
          "metadata": {
            "tags": [],
            "needs_background": "light"
          }
        }
      ]
    },
    {
      "cell_type": "code",
      "metadata": {
        "colab": {
          "base_uri": "https://localhost:8080/",
          "height": 395
        },
        "id": "420HtBBUaBe3",
        "outputId": "21847542-510a-4417-c9d0-2bbcf70681e1"
      },
      "source": [
        "df.corr()['TYPE_FLU'].sort_values()[:-1].plot(kind='bar')"
      ],
      "execution_count": null,
      "outputs": [
        {
          "output_type": "execute_result",
          "data": {
            "text/plain": [
              "<matplotlib.axes._subplots.AxesSubplot at 0x7fe6bcd5ed10>"
            ]
          },
          "metadata": {
            "tags": []
          },
          "execution_count": 27
        },
        {
          "output_type": "display_data",
          "data": {
            "image/png": "[encoded data removed]",
            "text/plain": [
              "<Figure size 432x288 with 1 Axes>"
            ]
          },
          "metadata": {
            "tags": [],
            "needs_background": "light"
          }
        }
      ]
    },
    {
      "cell_type": "code",
      "metadata": {
        "colab": {
          "base_uri": "https://localhost:8080/",
          "height": 395
        },
        "id": "mH2Z9_bIaQ0k",
        "outputId": "7cc62eaa-748d-4946-8ece-139eec63425b"
      },
      "source": [
        "df.corr()['TYPE_COVID'].sort_values()[:-1].plot(kind='bar')"
      ],
      "execution_count": null,
      "outputs": [
        {
          "output_type": "execute_result",
          "data": {
            "text/plain": [
              "<matplotlib.axes._subplots.AxesSubplot at 0x7fe6b4463890>"
            ]
          },
          "metadata": {
            "tags": []
          },
          "execution_count": 28
        },
        {
          "output_type": "display_data",
          "data": {
            "image/png": "[encoded data removed]",
            "text/plain": [
              "<Figure size 432x288 with 1 Axes>"
            ]
          },
          "metadata": {
            "tags": [],
            "needs_background": "light"
          }
        }
      ]
    },
    {
      "cell_type": "code",
      "metadata": {
        "colab": {
          "base_uri": "https://localhost:8080/",
          "height": 395
        },
        "id": "yggt7BJEaVoj",
        "outputId": "e7b14998-6276-4367-e683-231a11fa3e8a"
      },
      "source": [
        "df.corr()['TYPE_COLD'].sort_values()[:-1].plot(kind='bar')"
      ],
      "execution_count": null,
      "outputs": [
        {
          "output_type": "execute_result",
          "data": {
            "text/plain": [
              "<matplotlib.axes._subplots.AxesSubplot at 0x7fe6b43bdd10>"
            ]
          },
          "metadata": {
            "tags": []
          },
          "execution_count": 29
        },
        {
          "output_type": "display_data",
          "data": {
            "image/png": "[encoded data removed]",
            "text/plain": [
              "<Figure size 432x288 with 1 Axes>"
            ]
          },
          "metadata": {
            "tags": [],
            "needs_background": "light"
          }
        }
      ]
    },
    {
      "cell_type": "code",
      "metadata": {
        "id": "6AswHG0ZUtFB"
      },
      "source": [
        "df = pd.get_dummies(df, columns=['TYPE'])"
      ],
      "execution_count": null,
      "outputs": []
    },
    {
      "cell_type": "code",
      "metadata": {
        "id": "PQ2tufLkaZev"
      },
      "source": [
        "from sklearn.model_selection import train_test_split"
      ],
      "execution_count": null,
      "outputs": []
    },
    {
      "cell_type": "code",
      "metadata": {
        "id": "4q57EXIxaj6O"
      },
      "source": [
        "X = df.drop(columns=['TYPE_ALLERGY','TYPE_FLU','TYPE_COLD','TYPE_COVID'], axis=1)"
      ],
      "execution_count": null,
      "outputs": []
    },
    {
      "cell_type": "code",
      "metadata": {
        "id": "15vfE_qcawCN"
      },
      "source": [
        "y = df[['TYPE_ALLERGY','TYPE_FLU','TYPE_COLD','TYPE_COVID']]"
      ],
      "execution_count": null,
      "outputs": []
    },
    {
      "cell_type": "code",
      "metadata": {
        "colab": {
          "base_uri": "https://localhost:8080/"
        },
        "id": "5UwrqNPEazx6",
        "outputId": "e1417d9f-2102-49fd-f213-9fe1a1178836"
      },
      "source": [
        "df.isnull().sum()"
      ],
      "execution_count": null,
      "outputs": [
        {
          "output_type": "execute_result",
          "data": {
            "text/plain": [
              "COUGH                   0\n",
              "MUSCLE_ACHES            0\n",
              "TIREDNESS               0\n",
              "SORE_THROAT             0\n",
              "RUNNY_NOSE              0\n",
              "STUFFY_NOSE             0\n",
              "FEVER                   0\n",
              "NAUSEA                  0\n",
              "VOMITING                0\n",
              "DIARRHEA                0\n",
              "SHORTNESS_OF_BREATH     0\n",
              "DIFFICULTY_BREATHING    0\n",
              "LOSS_OF_TASTE           0\n",
              "LOSS_OF_SMELL           0\n",
              "ITCHY_NOSE              0\n",
              "ITCHY_EYES              0\n",
              "ITCHY_MOUTH             0\n",
              "ITCHY_INNER_EAR         0\n",
              "SNEEZING                0\n",
              "PINK_EYE                0\n",
              "TYPE_ALLERGY            0\n",
              "TYPE_COLD               0\n",
              "TYPE_COVID              0\n",
              "TYPE_FLU                0\n",
              "dtype: int64"
            ]
          },
          "metadata": {
            "tags": []
          },
          "execution_count": 33
        }
      ]
    },
    {
      "cell_type": "code",
      "metadata": {
        "id": "UpFSsLcca1MN"
      },
      "source": [
        "X_train, X_test, y_train, y_test = train_test_split(X, y, test_size=0.25, random_state=42)"
      ],
      "execution_count": null,
      "outputs": []
    },
    {
      "cell_type": "code",
      "metadata": {
        "id": "VbFZ2kRpa-g2"
      },
      "source": [
        "from sklearn.preprocessing import MinMaxScaler"
      ],
      "execution_count": null,
      "outputs": []
    },
    {
      "cell_type": "code",
      "metadata": {
        "id": "H6P_iEZMcS4r"
      },
      "source": [
        "scaler = MinMaxScaler()"
      ],
      "execution_count": null,
      "outputs": []
    },
    {
      "cell_type": "code",
      "metadata": {
        "colab": {
          "base_uri": "https://localhost:8080/"
        },
        "id": "VnLELQMncWFp",
        "outputId": "734a4b6c-424a-4c60-8bff-d3251b0d8e49"
      },
      "source": [
        "scaler.fit(X_train)"
      ],
      "execution_count": null,
      "outputs": [
        {
          "output_type": "execute_result",
          "data": {
            "text/plain": [
              "MinMaxScaler(copy=True, feature_range=(0, 1))"
            ]
          },
          "metadata": {
            "tags": []
          },
          "execution_count": 38
        }
      ]
    },
    {
      "cell_type": "code",
      "metadata": {
        "id": "SJzaBF5HceEc"
      },
      "source": [
        "X_train = scaler.transform(X_train)\n",
        "X_test = scaler.transform(X_test)"
      ],
      "execution_count": null,
      "outputs": []
    },
    {
      "cell_type": "code",
      "metadata": {
        "id": "0WIyH0MTcizM"
      },
      "source": [
        "from tensorflow.keras.models import Sequential"
      ],
      "execution_count": null,
      "outputs": []
    },
    {
      "cell_type": "code",
      "metadata": {
        "id": "JUkAWF1xcmpK"
      },
      "source": [
        "from tensorflow.keras.layers import Dense, Dropout"
      ],
      "execution_count": null,
      "outputs": []
    },
    {
      "cell_type": "code",
      "metadata": {
        "id": "aQUiQIEPco5Y"
      },
      "source": [
        "model = Sequential()\n",
        "\n",
        "model.add(Dense(64, activation='relu'))\n",
        "\n",
        "model.add(Dense(32, activation='relu'))\n",
        "model.add(Dropout(0.10))\n",
        "\n",
        "model.add(Dense(4, activation='softmax'))\n",
        "\n",
        "model.compile(loss='categorical_crossentropy', optimizer='rmsprop', metrics=['accuracy'])"
      ],
      "execution_count": null,
      "outputs": []
    },
    {
      "cell_type": "code",
      "metadata": {
        "id": "TlC_dFRrc8fu"
      },
      "source": [
        "from tensorflow.keras.callbacks import EarlyStopping"
      ],
      "execution_count": null,
      "outputs": []
    },
    {
      "cell_type": "code",
      "metadata": {
        "id": "H-0Swt5bdBeV"
      },
      "source": [
        "early_stop = EarlyStopping(monitor='val_loss', mode='min', patience=25)"
      ],
      "execution_count": null,
      "outputs": []
    },
    {
      "cell_type": "code",
      "metadata": {
        "id": "WN34w8L4dOU8"
      },
      "source": [
        "validation_data = (X_test, y_test)"
      ],
      "execution_count": null,
      "outputs": []
    },
    {
      "cell_type": "code",
      "metadata": {
        "colab": {
          "base_uri": "https://localhost:8080/"
        },
        "id": "6NrQse0TdKDe",
        "outputId": "eea80aed-2cd3-4cd7-ce46-7c3761c831e3"
      },
      "source": [
        "result = model.fit(X_train,y_train,validation_data=validation_data, epochs=350,callbacks=[early_stop], verbose=1)"
      ],
      "execution_count": null,
      "outputs": [
        {
          "output_type": "stream",
          "text": [
            "Epoch 1/350\n",
            "1042/1042 [==============================] - 3s 2ms/step - loss: 0.1813 - accuracy: 0.9185 - val_loss: 0.1054 - val_accuracy: 0.9322\n",
            "Epoch 2/350\n",
            "1042/1042 [==============================] - 2s 1ms/step - loss: 0.1122 - accuracy: 0.9314 - val_loss: 0.1054 - val_accuracy: 0.9317\n",
            "Epoch 3/350\n",
            "1042/1042 [==============================] - 2s 2ms/step - loss: 0.1093 - accuracy: 0.9317 - val_loss: 0.1025 - val_accuracy: 0.9305\n",
            "Epoch 4/350\n",
            "1042/1042 [==============================] - 2s 2ms/step - loss: 0.1076 - accuracy: 0.9304 - val_loss: 0.1015 - val_accuracy: 0.9318\n",
            "Epoch 5/350\n",
            "1042/1042 [==============================] - 2s 2ms/step - loss: 0.1059 - accuracy: 0.9328 - val_loss: 0.1032 - val_accuracy: 0.9300\n",
            "Epoch 6/350\n",
            "1042/1042 [==============================] - 2s 1ms/step - loss: 0.1058 - accuracy: 0.9334 - val_loss: 0.1012 - val_accuracy: 0.9314\n",
            "Epoch 7/350\n",
            "1042/1042 [==============================] - 2s 2ms/step - loss: 0.1047 - accuracy: 0.9329 - val_loss: 0.1021 - val_accuracy: 0.9311\n",
            "Epoch 8/350\n",
            "1042/1042 [==============================] - 2s 2ms/step - loss: 0.1045 - accuracy: 0.9330 - val_loss: 0.1010 - val_accuracy: 0.9318\n",
            "Epoch 9/350\n",
            "1042/1042 [==============================] - 2s 2ms/step - loss: 0.1050 - accuracy: 0.9310 - val_loss: 0.1007 - val_accuracy: 0.9309\n",
            "Epoch 10/350\n",
            "1042/1042 [==============================] - 2s 2ms/step - loss: 0.1042 - accuracy: 0.9319 - val_loss: 0.1014 - val_accuracy: 0.9312\n",
            "Epoch 11/350\n",
            "1042/1042 [==============================] - 2s 2ms/step - loss: 0.1046 - accuracy: 0.9323 - val_loss: 0.1022 - val_accuracy: 0.9305\n",
            "Epoch 12/350\n",
            "1042/1042 [==============================] - 2s 2ms/step - loss: 0.1045 - accuracy: 0.9328 - val_loss: 0.1018 - val_accuracy: 0.9311\n",
            "Epoch 13/350\n",
            "1042/1042 [==============================] - 2s 1ms/step - loss: 0.1050 - accuracy: 0.9326 - val_loss: 0.1018 - val_accuracy: 0.9314\n",
            "Epoch 14/350\n",
            "1042/1042 [==============================] - 2s 1ms/step - loss: 0.1046 - accuracy: 0.9331 - val_loss: 0.1023 - val_accuracy: 0.9303\n",
            "Epoch 15/350\n",
            "1042/1042 [==============================] - 2s 2ms/step - loss: 0.1053 - accuracy: 0.9314 - val_loss: 0.1028 - val_accuracy: 0.9304\n",
            "Epoch 16/350\n",
            "1042/1042 [==============================] - 2s 2ms/step - loss: 0.1042 - accuracy: 0.9326 - val_loss: 0.1020 - val_accuracy: 0.9286\n",
            "Epoch 17/350\n",
            "1042/1042 [==============================] - 2s 2ms/step - loss: 0.1044 - accuracy: 0.9321 - val_loss: 0.1026 - val_accuracy: 0.9289\n",
            "Epoch 18/350\n",
            "1042/1042 [==============================] - 2s 2ms/step - loss: 0.1048 - accuracy: 0.9322 - val_loss: 0.1022 - val_accuracy: 0.9264\n",
            "Epoch 19/350\n",
            "1042/1042 [==============================] - 2s 2ms/step - loss: 0.1047 - accuracy: 0.9327 - val_loss: 0.1047 - val_accuracy: 0.9294\n",
            "Epoch 20/350\n",
            "1042/1042 [==============================] - 2s 1ms/step - loss: 0.1045 - accuracy: 0.9343 - val_loss: 0.1035 - val_accuracy: 0.9316\n",
            "Epoch 21/350\n",
            "1042/1042 [==============================] - 2s 2ms/step - loss: 0.1051 - accuracy: 0.9320 - val_loss: 0.1049 - val_accuracy: 0.9313\n",
            "Epoch 22/350\n",
            "1042/1042 [==============================] - 2s 2ms/step - loss: 0.1048 - accuracy: 0.9325 - val_loss: 0.1035 - val_accuracy: 0.9282\n",
            "Epoch 23/350\n",
            "1042/1042 [==============================] - 2s 2ms/step - loss: 0.1049 - accuracy: 0.9328 - val_loss: 0.1019 - val_accuracy: 0.9315\n",
            "Epoch 24/350\n",
            "1042/1042 [==============================] - 2s 2ms/step - loss: 0.1048 - accuracy: 0.9335 - val_loss: 0.1034 - val_accuracy: 0.9326\n",
            "Epoch 25/350\n",
            "1042/1042 [==============================] - 2s 2ms/step - loss: 0.1051 - accuracy: 0.9328 - val_loss: 0.1043 - val_accuracy: 0.9280\n",
            "Epoch 26/350\n",
            "1042/1042 [==============================] - 2s 1ms/step - loss: 0.1047 - accuracy: 0.9331 - val_loss: 0.1053 - val_accuracy: 0.9284\n",
            "Epoch 27/350\n",
            "1042/1042 [==============================] - 2s 2ms/step - loss: 0.1047 - accuracy: 0.9331 - val_loss: 0.1021 - val_accuracy: 0.9290\n",
            "Epoch 28/350\n",
            "1042/1042 [==============================] - 2s 2ms/step - loss: 0.1052 - accuracy: 0.9319 - val_loss: 0.1028 - val_accuracy: 0.9288\n",
            "Epoch 29/350\n",
            "1042/1042 [==============================] - 2s 1ms/step - loss: 0.1048 - accuracy: 0.9330 - val_loss: 0.1047 - val_accuracy: 0.9293\n",
            "Epoch 30/350\n",
            "1042/1042 [==============================] - 2s 2ms/step - loss: 0.1061 - accuracy: 0.9321 - val_loss: 0.1060 - val_accuracy: 0.9283\n",
            "Epoch 31/350\n",
            "1042/1042 [==============================] - 2s 1ms/step - loss: 0.1049 - accuracy: 0.9319 - val_loss: 0.1025 - val_accuracy: 0.9298\n",
            "Epoch 32/350\n",
            "1042/1042 [==============================] - 2s 2ms/step - loss: 0.1047 - accuracy: 0.9327 - val_loss: 0.1048 - val_accuracy: 0.9299\n",
            "Epoch 33/350\n",
            "1042/1042 [==============================] - 2s 1ms/step - loss: 0.1047 - accuracy: 0.9332 - val_loss: 0.1098 - val_accuracy: 0.9296\n",
            "Epoch 34/350\n",
            "1042/1042 [==============================] - 2s 2ms/step - loss: 0.1053 - accuracy: 0.9322 - val_loss: 0.1037 - val_accuracy: 0.9265\n"
          ],
          "name": "stdout"
        }
      ]
    },
    {
      "cell_type": "code",
      "metadata": {
        "id": "DBLdM0hTdV0E"
      },
      "source": [
        "losses = pd.DataFrame(model.history.history)"
      ],
      "execution_count": null,
      "outputs": []
    },
    {
      "cell_type": "code",
      "metadata": {
        "colab": {
          "base_uri": "https://localhost:8080/",
          "height": 1000
        },
        "id": "4VWtxbeWdp_X",
        "outputId": "c691b330-5b6f-4f5c-856d-775c7b73fd76"
      },
      "source": [
        "losses"
      ],
      "execution_count": null,
      "outputs": [
        {
          "output_type": "execute_result",
          "data": {
            "text/html": [
              "<div>\n",
              "<style scoped>\n",
              "    .dataframe tbody tr th:only-of-type {\n",
              "        vertical-align: middle;\n",
              "    }\n",
              "\n",
              "    .dataframe tbody tr th {\n",
              "        vertical-align: top;\n",
              "    }\n",
              "\n",
              "    .dataframe thead th {\n",
              "        text-align: right;\n",
              "    }\n",
              "</style>\n",
              "<table border=\"1\" class=\"dataframe\">\n",
              "  <thead>\n",
              "    <tr style=\"text-align: right;\">\n",
              "      <th></th>\n",
              "      <th>loss</th>\n",
              "      <th>accuracy</th>\n",
              "      <th>val_loss</th>\n",
              "      <th>val_accuracy</th>\n",
              "    </tr>\n",
              "  </thead>\n",
              "  <tbody>\n",
              "    <tr>\n",
              "      <th>0</th>\n",
              "      <td>0.181350</td>\n",
              "      <td>0.918504</td>\n",
              "      <td>0.105359</td>\n",
              "      <td>0.932248</td>\n",
              "    </tr>\n",
              "    <tr>\n",
              "      <th>1</th>\n",
              "      <td>0.112170</td>\n",
              "      <td>0.931372</td>\n",
              "      <td>0.105419</td>\n",
              "      <td>0.931708</td>\n",
              "    </tr>\n",
              "    <tr>\n",
              "      <th>2</th>\n",
              "      <td>0.109321</td>\n",
              "      <td>0.931672</td>\n",
              "      <td>0.102503</td>\n",
              "      <td>0.930538</td>\n",
              "    </tr>\n",
              "    <tr>\n",
              "      <th>3</th>\n",
              "      <td>0.107618</td>\n",
              "      <td>0.930442</td>\n",
              "      <td>0.101518</td>\n",
              "      <td>0.931798</td>\n",
              "    </tr>\n",
              "    <tr>\n",
              "      <th>4</th>\n",
              "      <td>0.105924</td>\n",
              "      <td>0.932811</td>\n",
              "      <td>0.103247</td>\n",
              "      <td>0.929998</td>\n",
              "    </tr>\n",
              "    <tr>\n",
              "      <th>5</th>\n",
              "      <td>0.105766</td>\n",
              "      <td>0.933381</td>\n",
              "      <td>0.101153</td>\n",
              "      <td>0.931438</td>\n",
              "    </tr>\n",
              "    <tr>\n",
              "      <th>6</th>\n",
              "      <td>0.104721</td>\n",
              "      <td>0.932931</td>\n",
              "      <td>0.102119</td>\n",
              "      <td>0.931078</td>\n",
              "    </tr>\n",
              "    <tr>\n",
              "      <th>7</th>\n",
              "      <td>0.104531</td>\n",
              "      <td>0.933021</td>\n",
              "      <td>0.100996</td>\n",
              "      <td>0.931798</td>\n",
              "    </tr>\n",
              "    <tr>\n",
              "      <th>8</th>\n",
              "      <td>0.105034</td>\n",
              "      <td>0.931042</td>\n",
              "      <td>0.100700</td>\n",
              "      <td>0.930898</td>\n",
              "    </tr>\n",
              "    <tr>\n",
              "      <th>9</th>\n",
              "      <td>0.104176</td>\n",
              "      <td>0.931912</td>\n",
              "      <td>0.101393</td>\n",
              "      <td>0.931168</td>\n",
              "    </tr>\n",
              "    <tr>\n",
              "      <th>10</th>\n",
              "      <td>0.104554</td>\n",
              "      <td>0.932302</td>\n",
              "      <td>0.102171</td>\n",
              "      <td>0.930538</td>\n",
              "    </tr>\n",
              "    <tr>\n",
              "      <th>11</th>\n",
              "      <td>0.104498</td>\n",
              "      <td>0.932841</td>\n",
              "      <td>0.101768</td>\n",
              "      <td>0.931078</td>\n",
              "    </tr>\n",
              "    <tr>\n",
              "      <th>12</th>\n",
              "      <td>0.104999</td>\n",
              "      <td>0.932571</td>\n",
              "      <td>0.101843</td>\n",
              "      <td>0.931438</td>\n",
              "    </tr>\n",
              "    <tr>\n",
              "      <th>13</th>\n",
              "      <td>0.104611</td>\n",
              "      <td>0.933081</td>\n",
              "      <td>0.102253</td>\n",
              "      <td>0.930268</td>\n",
              "    </tr>\n",
              "    <tr>\n",
              "      <th>14</th>\n",
              "      <td>0.105324</td>\n",
              "      <td>0.931402</td>\n",
              "      <td>0.102838</td>\n",
              "      <td>0.930358</td>\n",
              "    </tr>\n",
              "    <tr>\n",
              "      <th>15</th>\n",
              "      <td>0.104242</td>\n",
              "      <td>0.932571</td>\n",
              "      <td>0.101980</td>\n",
              "      <td>0.928649</td>\n",
              "    </tr>\n",
              "    <tr>\n",
              "      <th>16</th>\n",
              "      <td>0.104426</td>\n",
              "      <td>0.932122</td>\n",
              "      <td>0.102624</td>\n",
              "      <td>0.928918</td>\n",
              "    </tr>\n",
              "    <tr>\n",
              "      <th>17</th>\n",
              "      <td>0.104827</td>\n",
              "      <td>0.932241</td>\n",
              "      <td>0.102236</td>\n",
              "      <td>0.926399</td>\n",
              "    </tr>\n",
              "    <tr>\n",
              "      <th>18</th>\n",
              "      <td>0.104709</td>\n",
              "      <td>0.932691</td>\n",
              "      <td>0.104737</td>\n",
              "      <td>0.929368</td>\n",
              "    </tr>\n",
              "    <tr>\n",
              "      <th>19</th>\n",
              "      <td>0.104498</td>\n",
              "      <td>0.934341</td>\n",
              "      <td>0.103465</td>\n",
              "      <td>0.931618</td>\n",
              "    </tr>\n",
              "    <tr>\n",
              "      <th>20</th>\n",
              "      <td>0.105075</td>\n",
              "      <td>0.932002</td>\n",
              "      <td>0.104946</td>\n",
              "      <td>0.931258</td>\n",
              "    </tr>\n",
              "    <tr>\n",
              "      <th>21</th>\n",
              "      <td>0.104772</td>\n",
              "      <td>0.932451</td>\n",
              "      <td>0.103458</td>\n",
              "      <td>0.928199</td>\n",
              "    </tr>\n",
              "    <tr>\n",
              "      <th>22</th>\n",
              "      <td>0.104941</td>\n",
              "      <td>0.932781</td>\n",
              "      <td>0.101933</td>\n",
              "      <td>0.931528</td>\n",
              "    </tr>\n",
              "    <tr>\n",
              "      <th>23</th>\n",
              "      <td>0.104824</td>\n",
              "      <td>0.933471</td>\n",
              "      <td>0.103358</td>\n",
              "      <td>0.932608</td>\n",
              "    </tr>\n",
              "    <tr>\n",
              "      <th>24</th>\n",
              "      <td>0.105052</td>\n",
              "      <td>0.932841</td>\n",
              "      <td>0.104331</td>\n",
              "      <td>0.928019</td>\n",
              "    </tr>\n",
              "    <tr>\n",
              "      <th>25</th>\n",
              "      <td>0.104727</td>\n",
              "      <td>0.933081</td>\n",
              "      <td>0.105313</td>\n",
              "      <td>0.928379</td>\n",
              "    </tr>\n",
              "    <tr>\n",
              "      <th>26</th>\n",
              "      <td>0.104667</td>\n",
              "      <td>0.933111</td>\n",
              "      <td>0.102058</td>\n",
              "      <td>0.929008</td>\n",
              "    </tr>\n",
              "    <tr>\n",
              "      <th>27</th>\n",
              "      <td>0.105222</td>\n",
              "      <td>0.931912</td>\n",
              "      <td>0.102760</td>\n",
              "      <td>0.928828</td>\n",
              "    </tr>\n",
              "    <tr>\n",
              "      <th>28</th>\n",
              "      <td>0.104816</td>\n",
              "      <td>0.932991</td>\n",
              "      <td>0.104713</td>\n",
              "      <td>0.929278</td>\n",
              "    </tr>\n",
              "    <tr>\n",
              "      <th>29</th>\n",
              "      <td>0.106096</td>\n",
              "      <td>0.932062</td>\n",
              "      <td>0.105978</td>\n",
              "      <td>0.928289</td>\n",
              "    </tr>\n",
              "    <tr>\n",
              "      <th>30</th>\n",
              "      <td>0.104906</td>\n",
              "      <td>0.931852</td>\n",
              "      <td>0.102493</td>\n",
              "      <td>0.929818</td>\n",
              "    </tr>\n",
              "    <tr>\n",
              "      <th>31</th>\n",
              "      <td>0.104697</td>\n",
              "      <td>0.932691</td>\n",
              "      <td>0.104768</td>\n",
              "      <td>0.929908</td>\n",
              "    </tr>\n",
              "    <tr>\n",
              "      <th>32</th>\n",
              "      <td>0.104655</td>\n",
              "      <td>0.933231</td>\n",
              "      <td>0.109751</td>\n",
              "      <td>0.929638</td>\n",
              "    </tr>\n",
              "    <tr>\n",
              "      <th>33</th>\n",
              "      <td>0.105323</td>\n",
              "      <td>0.932182</td>\n",
              "      <td>0.103681</td>\n",
              "      <td>0.926489</td>\n",
              "    </tr>\n",
              "  </tbody>\n",
              "</table>\n",
              "</div>"
            ],
            "text/plain": [
              "        loss  accuracy  val_loss  val_accuracy\n",
              "0   0.181350  0.918504  0.105359      0.932248\n",
              "1   0.112170  0.931372  0.105419      0.931708\n",
              "2   0.109321  0.931672  0.102503      0.930538\n",
              "3   0.107618  0.930442  0.101518      0.931798\n",
              "4   0.105924  0.932811  0.103247      0.929998\n",
              "5   0.105766  0.933381  0.101153      0.931438\n",
              "6   0.104721  0.932931  0.102119      0.931078\n",
              "7   0.104531  0.933021  0.100996      0.931798\n",
              "8   0.105034  0.931042  0.100700      0.930898\n",
              "9   0.104176  0.931912  0.101393      0.931168\n",
              "10  0.104554  0.932302  0.102171      0.930538\n",
              "11  0.104498  0.932841  0.101768      0.931078\n",
              "12  0.104999  0.932571  0.101843      0.931438\n",
              "13  0.104611  0.933081  0.102253      0.930268\n",
              "14  0.105324  0.931402  0.102838      0.930358\n",
              "15  0.104242  0.932571  0.101980      0.928649\n",
              "16  0.104426  0.932122  0.102624      0.928918\n",
              "17  0.104827  0.932241  0.102236      0.926399\n",
              "18  0.104709  0.932691  0.104737      0.929368\n",
              "19  0.104498  0.934341  0.103465      0.931618\n",
              "20  0.105075  0.932002  0.104946      0.931258\n",
              "21  0.104772  0.932451  0.103458      0.928199\n",
              "22  0.104941  0.932781  0.101933      0.931528\n",
              "23  0.104824  0.933471  0.103358      0.932608\n",
              "24  0.105052  0.932841  0.104331      0.928019\n",
              "25  0.104727  0.933081  0.105313      0.928379\n",
              "26  0.104667  0.933111  0.102058      0.929008\n",
              "27  0.105222  0.931912  0.102760      0.928828\n",
              "28  0.104816  0.932991  0.104713      0.929278\n",
              "29  0.106096  0.932062  0.105978      0.928289\n",
              "30  0.104906  0.931852  0.102493      0.929818\n",
              "31  0.104697  0.932691  0.104768      0.929908\n",
              "32  0.104655  0.933231  0.109751      0.929638\n",
              "33  0.105323  0.932182  0.103681      0.926489"
            ]
          },
          "metadata": {
            "tags": []
          },
          "execution_count": 49
        }
      ]
    },
    {
      "cell_type": "code",
      "metadata": {
        "colab": {
          "base_uri": "https://localhost:8080/",
          "height": 282
        },
        "id": "h-s8uIDEdrHd",
        "outputId": "0b085c13-cab1-4e1f-c759-c25bca841c00"
      },
      "source": [
        "losses[['val_loss','loss']].plot()"
      ],
      "execution_count": null,
      "outputs": [
        {
          "output_type": "execute_result",
          "data": {
            "text/plain": [
              "<matplotlib.axes._subplots.AxesSubplot at 0x7fe668d777d0>"
            ]
          },
          "metadata": {
            "tags": []
          },
          "execution_count": 50
        },
        {
          "output_type": "display_data",
          "data": {
            "image/png": "[encoded data removed]",
            "text/plain": [
              "<Figure size 432x288 with 1 Axes>"
            ]
          },
          "metadata": {
            "tags": [],
            "needs_background": "light"
          }
        }
      ]
    },
    {
      "cell_type": "code",
      "metadata": {
        "colab": {
          "base_uri": "https://localhost:8080/",
          "height": 282
        },
        "id": "5c5Ph5zKdtx1",
        "outputId": "b6ade941-3b27-4ad8-f01c-94c88176302e"
      },
      "source": [
        "losses[['val_accuracy','accuracy']].plot()"
      ],
      "execution_count": null,
      "outputs": [
        {
          "output_type": "execute_result",
          "data": {
            "text/plain": [
              "<matplotlib.axes._subplots.AxesSubplot at 0x7fe66d4afa50>"
            ]
          },
          "metadata": {
            "tags": []
          },
          "execution_count": 51
        },
        {
          "output_type": "display_data",
          "data": {
            "image/png": "[encoded data removed]",
            "text/plain": [
              "<Figure size 432x288 with 1 Axes>"
            ]
          },
          "metadata": {
            "tags": [],
            "needs_background": "light"
          }
        }
      ]
    },
    {
      "cell_type": "code",
      "metadata": {
        "id": "FfT1oluhdxvi"
      },
      "source": [
        "preds = model.predict(X_test)"
      ],
      "execution_count": null,
      "outputs": []
    },
    {
      "cell_type": "code",
      "metadata": {
        "id": "jzl8pWQge3KS"
      },
      "source": [
        "predictions = np.argmax(preds, axis=1)"
      ],
      "execution_count": null,
      "outputs": []
    },
    {
      "cell_type": "code",
      "metadata": {
        "id": "cEuobG0TeHmC"
      },
      "source": [
        "predictions_df = pd.Series(predictions)"
      ],
      "execution_count": null,
      "outputs": []
    },
    {
      "cell_type": "code",
      "metadata": {
        "id": "2ybR54N3etdA"
      },
      "source": [
        "predictions_df = pd.DataFrame(predictions_df)"
      ],
      "execution_count": null,
      "outputs": []
    },
    {
      "cell_type": "code",
      "metadata": {
        "id": "9XQINwdtetfi"
      },
      "source": [
        "predictions_df = pd.get_dummies(predictions_df, columns=[0])"
      ],
      "execution_count": null,
      "outputs": []
    },
    {
      "cell_type": "code",
      "metadata": {
        "colab": {
          "base_uri": "https://localhost:8080/",
          "height": 419
        },
        "id": "6_js1nCweVYN",
        "outputId": "a7909cad-910b-4364-80cf-c0666bc5ff84"
      },
      "source": [
        "predictions_df"
      ],
      "execution_count": null,
      "outputs": [
        {
          "output_type": "execute_result",
          "data": {
            "text/html": [
              "<div>\n",
              "<style scoped>\n",
              "    .dataframe tbody tr th:only-of-type {\n",
              "        vertical-align: middle;\n",
              "    }\n",
              "\n",
              "    .dataframe tbody tr th {\n",
              "        vertical-align: top;\n",
              "    }\n",
              "\n",
              "    .dataframe thead th {\n",
              "        text-align: right;\n",
              "    }\n",
              "</style>\n",
              "<table border=\"1\" class=\"dataframe\">\n",
              "  <thead>\n",
              "    <tr style=\"text-align: right;\">\n",
              "      <th></th>\n",
              "      <th>0_0</th>\n",
              "      <th>0_1</th>\n",
              "      <th>0_2</th>\n",
              "      <th>0_3</th>\n",
              "    </tr>\n",
              "  </thead>\n",
              "  <tbody>\n",
              "    <tr>\n",
              "      <th>0</th>\n",
              "      <td>0</td>\n",
              "      <td>1</td>\n",
              "      <td>0</td>\n",
              "      <td>0</td>\n",
              "    </tr>\n",
              "    <tr>\n",
              "      <th>1</th>\n",
              "      <td>0</td>\n",
              "      <td>1</td>\n",
              "      <td>0</td>\n",
              "      <td>0</td>\n",
              "    </tr>\n",
              "    <tr>\n",
              "      <th>2</th>\n",
              "      <td>0</td>\n",
              "      <td>1</td>\n",
              "      <td>0</td>\n",
              "      <td>0</td>\n",
              "    </tr>\n",
              "    <tr>\n",
              "      <th>3</th>\n",
              "      <td>0</td>\n",
              "      <td>1</td>\n",
              "      <td>0</td>\n",
              "      <td>0</td>\n",
              "    </tr>\n",
              "    <tr>\n",
              "      <th>4</th>\n",
              "      <td>0</td>\n",
              "      <td>1</td>\n",
              "      <td>0</td>\n",
              "      <td>0</td>\n",
              "    </tr>\n",
              "    <tr>\n",
              "      <th>...</th>\n",
              "      <td>...</td>\n",
              "      <td>...</td>\n",
              "      <td>...</td>\n",
              "      <td>...</td>\n",
              "    </tr>\n",
              "    <tr>\n",
              "      <th>11109</th>\n",
              "      <td>0</td>\n",
              "      <td>1</td>\n",
              "      <td>0</td>\n",
              "      <td>0</td>\n",
              "    </tr>\n",
              "    <tr>\n",
              "      <th>11110</th>\n",
              "      <td>1</td>\n",
              "      <td>0</td>\n",
              "      <td>0</td>\n",
              "      <td>0</td>\n",
              "    </tr>\n",
              "    <tr>\n",
              "      <th>11111</th>\n",
              "      <td>0</td>\n",
              "      <td>0</td>\n",
              "      <td>0</td>\n",
              "      <td>1</td>\n",
              "    </tr>\n",
              "    <tr>\n",
              "      <th>11112</th>\n",
              "      <td>0</td>\n",
              "      <td>1</td>\n",
              "      <td>0</td>\n",
              "      <td>0</td>\n",
              "    </tr>\n",
              "    <tr>\n",
              "      <th>11113</th>\n",
              "      <td>0</td>\n",
              "      <td>1</td>\n",
              "      <td>0</td>\n",
              "      <td>0</td>\n",
              "    </tr>\n",
              "  </tbody>\n",
              "</table>\n",
              "<p>11114 rows × 4 columns</p>\n",
              "</div>"
            ],
            "text/plain": [
              "       0_0  0_1  0_2  0_3\n",
              "0        0    1    0    0\n",
              "1        0    1    0    0\n",
              "2        0    1    0    0\n",
              "3        0    1    0    0\n",
              "4        0    1    0    0\n",
              "...    ...  ...  ...  ...\n",
              "11109    0    1    0    0\n",
              "11110    1    0    0    0\n",
              "11111    0    0    0    1\n",
              "11112    0    1    0    0\n",
              "11113    0    1    0    0\n",
              "\n",
              "[11114 rows x 4 columns]"
            ]
          },
          "metadata": {
            "tags": []
          },
          "execution_count": 72
        }
      ]
    },
    {
      "cell_type": "code",
      "metadata": {
        "colab": {
          "base_uri": "https://localhost:8080/"
        },
        "id": "ZANzIPQifgqG",
        "outputId": "708b3e39-051a-4ee1-e60e-d321f1e29590"
      },
      "source": [
        "predictions_df.shape"
      ],
      "execution_count": null,
      "outputs": [
        {
          "output_type": "execute_result",
          "data": {
            "text/plain": [
              "(11114, 4)"
            ]
          },
          "metadata": {
            "tags": []
          },
          "execution_count": 73
        }
      ]
    },
    {
      "cell_type": "code",
      "metadata": {
        "colab": {
          "base_uri": "https://localhost:8080/"
        },
        "id": "tZLM0VlTfibz",
        "outputId": "f45cfb07-96ab-4d3e-9bfc-f091f3c21e67"
      },
      "source": [
        "y_test.shape"
      ],
      "execution_count": null,
      "outputs": [
        {
          "output_type": "execute_result",
          "data": {
            "text/plain": [
              "(11114, 4)"
            ]
          },
          "metadata": {
            "tags": []
          },
          "execution_count": 74
        }
      ]
    },
    {
      "cell_type": "code",
      "metadata": {
        "id": "epVzScSeeK0P"
      },
      "source": [
        "from sklearn.metrics import classification_report, confusion_matrix"
      ],
      "execution_count": null,
      "outputs": []
    },
    {
      "cell_type": "code",
      "metadata": {
        "colab": {
          "base_uri": "https://localhost:8080/",
          "height": 419
        },
        "id": "raFje7dQeXQe",
        "outputId": "8cf1bcd9-cf01-422b-dfd1-2cb9370f2899"
      },
      "source": [
        "y_test"
      ],
      "execution_count": null,
      "outputs": [
        {
          "output_type": "execute_result",
          "data": {
            "text/html": [
              "<div>\n",
              "<style scoped>\n",
              "    .dataframe tbody tr th:only-of-type {\n",
              "        vertical-align: middle;\n",
              "    }\n",
              "\n",
              "    .dataframe tbody tr th {\n",
              "        vertical-align: top;\n",
              "    }\n",
              "\n",
              "    .dataframe thead th {\n",
              "        text-align: right;\n",
              "    }\n",
              "</style>\n",
              "<table border=\"1\" class=\"dataframe\">\n",
              "  <thead>\n",
              "    <tr style=\"text-align: right;\">\n",
              "      <th></th>\n",
              "      <th>TYPE_ALLERGY</th>\n",
              "      <th>TYPE_FLU</th>\n",
              "      <th>TYPE_COLD</th>\n",
              "      <th>TYPE_COVID</th>\n",
              "    </tr>\n",
              "  </thead>\n",
              "  <tbody>\n",
              "    <tr>\n",
              "      <th>20482</th>\n",
              "      <td>0</td>\n",
              "      <td>1</td>\n",
              "      <td>0</td>\n",
              "      <td>0</td>\n",
              "    </tr>\n",
              "    <tr>\n",
              "      <th>41460</th>\n",
              "      <td>0</td>\n",
              "      <td>1</td>\n",
              "      <td>0</td>\n",
              "      <td>0</td>\n",
              "    </tr>\n",
              "    <tr>\n",
              "      <th>42984</th>\n",
              "      <td>0</td>\n",
              "      <td>1</td>\n",
              "      <td>0</td>\n",
              "      <td>0</td>\n",
              "    </tr>\n",
              "    <tr>\n",
              "      <th>20258</th>\n",
              "      <td>0</td>\n",
              "      <td>1</td>\n",
              "      <td>0</td>\n",
              "      <td>0</td>\n",
              "    </tr>\n",
              "    <tr>\n",
              "      <th>29117</th>\n",
              "      <td>0</td>\n",
              "      <td>1</td>\n",
              "      <td>0</td>\n",
              "      <td>0</td>\n",
              "    </tr>\n",
              "    <tr>\n",
              "      <th>...</th>\n",
              "      <td>...</td>\n",
              "      <td>...</td>\n",
              "      <td>...</td>\n",
              "      <td>...</td>\n",
              "    </tr>\n",
              "    <tr>\n",
              "      <th>39171</th>\n",
              "      <td>0</td>\n",
              "      <td>1</td>\n",
              "      <td>0</td>\n",
              "      <td>0</td>\n",
              "    </tr>\n",
              "    <tr>\n",
              "      <th>10383</th>\n",
              "      <td>1</td>\n",
              "      <td>0</td>\n",
              "      <td>0</td>\n",
              "      <td>0</td>\n",
              "    </tr>\n",
              "    <tr>\n",
              "      <th>18239</th>\n",
              "      <td>0</td>\n",
              "      <td>0</td>\n",
              "      <td>0</td>\n",
              "      <td>1</td>\n",
              "    </tr>\n",
              "    <tr>\n",
              "      <th>28025</th>\n",
              "      <td>0</td>\n",
              "      <td>1</td>\n",
              "      <td>0</td>\n",
              "      <td>0</td>\n",
              "    </tr>\n",
              "    <tr>\n",
              "      <th>26677</th>\n",
              "      <td>0</td>\n",
              "      <td>1</td>\n",
              "      <td>0</td>\n",
              "      <td>0</td>\n",
              "    </tr>\n",
              "  </tbody>\n",
              "</table>\n",
              "<p>11114 rows × 4 columns</p>\n",
              "</div>"
            ],
            "text/plain": [
              "       TYPE_ALLERGY  TYPE_FLU  TYPE_COLD  TYPE_COVID\n",
              "20482             0         1          0           0\n",
              "41460             0         1          0           0\n",
              "42984             0         1          0           0\n",
              "20258             0         1          0           0\n",
              "29117             0         1          0           0\n",
              "...             ...       ...        ...         ...\n",
              "39171             0         1          0           0\n",
              "10383             1         0          0           0\n",
              "18239             0         0          0           1\n",
              "28025             0         1          0           0\n",
              "26677             0         1          0           0\n",
              "\n",
              "[11114 rows x 4 columns]"
            ]
          },
          "metadata": {
            "tags": []
          },
          "execution_count": 76
        }
      ]
    },
    {
      "cell_type": "code",
      "metadata": {
        "id": "2QMt7NO9Z4Aw"
      },
      "source": [
        "preds = model.predict(X_test)"
      ],
      "execution_count": null,
      "outputs": []
    },
    {
      "cell_type": "code",
      "metadata": {
        "id": "QKyEVVDIZ4EZ"
      },
      "source": [
        "predictions = np.argmax(preds, axis=1)"
      ],
      "execution_count": null,
      "outputs": []
    },
    {
      "cell_type": "code",
      "metadata": {
        "id": "Cl7c8JNVZ4IX"
      },
      "source": [
        "predictions_df = pd.Series(predictions)"
      ],
      "execution_count": null,
      "outputs": []
    },
    {
      "cell_type": "code",
      "metadata": {
        "id": "LgANChMUZ4Mw"
      },
      "source": [
        "predictions_df = pd.DataFrame(predictions_df)"
      ],
      "execution_count": null,
      "outputs": []
    },
    {
      "cell_type": "code",
      "metadata": {
        "id": "g62YLOlmaBZt"
      },
      "source": [
        "predictions_df = pd.get_dummies(predictions_df, columns=[0])"
      ],
      "execution_count": null,
      "outputs": []
    },
    {
      "cell_type": "code",
      "metadata": {
        "colab": {
          "base_uri": "https://localhost:8080/"
        },
        "id": "JVuQgB6JeQJg",
        "outputId": "2e4663bd-3396-4b55-b245-fa7420beff21"
      },
      "source": [
        "print(classification_report(y_test,predictions_df))"
      ],
      "execution_count": null,
      "outputs": [
        {
          "output_type": "stream",
          "text": [
            "              precision    recall  f1-score   support\n",
            "\n",
            "           0       0.99      0.98      0.98      4141\n",
            "           1       0.95      0.94      0.95      6239\n",
            "           2       0.49      0.66      0.56       243\n",
            "           3       0.43      0.43      0.43       491\n",
            "\n",
            "   micro avg       0.93      0.93      0.93     11114\n",
            "   macro avg       0.71      0.75      0.73     11114\n",
            "weighted avg       0.93      0.93      0.93     11114\n",
            " samples avg       0.93      0.93      0.93     11114\n",
            "\n"
          ],
          "name": "stdout"
        }
      ]
    },
    {
      "cell_type": "code",
      "metadata": {
        "id": "Q49bznnYeTS1"
      },
      "source": [
        "# After Resampling"
      ],
      "execution_count": null,
      "outputs": []
    },
    {
      "cell_type": "code",
      "metadata": {
        "id": "cVJBVbfdg_zr"
      },
      "source": [
        "df = pd.read_csv('/content/large_data.csv')"
      ],
      "execution_count": null,
      "outputs": []
    },
    {
      "cell_type": "code",
      "metadata": {
        "colab": {
          "base_uri": "https://localhost:8080/",
          "height": 224
        },
        "id": "XEAz_FCOhCzZ",
        "outputId": "439957b5-be5f-4723-f4fa-5353e40fba6d"
      },
      "source": [
        "df.head()"
      ],
      "execution_count": null,
      "outputs": [
        {
          "output_type": "execute_result",
          "data": {
            "text/html": [
              "<div>\n",
              "<style scoped>\n",
              "    .dataframe tbody tr th:only-of-type {\n",
              "        vertical-align: middle;\n",
              "    }\n",
              "\n",
              "    .dataframe tbody tr th {\n",
              "        vertical-align: top;\n",
              "    }\n",
              "\n",
              "    .dataframe thead th {\n",
              "        text-align: right;\n",
              "    }\n",
              "</style>\n",
              "<table border=\"1\" class=\"dataframe\">\n",
              "  <thead>\n",
              "    <tr style=\"text-align: right;\">\n",
              "      <th></th>\n",
              "      <th>COUGH</th>\n",
              "      <th>MUSCLE_ACHES</th>\n",
              "      <th>TIREDNESS</th>\n",
              "      <th>SORE_THROAT</th>\n",
              "      <th>RUNNY_NOSE</th>\n",
              "      <th>STUFFY_NOSE</th>\n",
              "      <th>FEVER</th>\n",
              "      <th>NAUSEA</th>\n",
              "      <th>VOMITING</th>\n",
              "      <th>DIARRHEA</th>\n",
              "      <th>SHORTNESS_OF_BREATH</th>\n",
              "      <th>DIFFICULTY_BREATHING</th>\n",
              "      <th>LOSS_OF_TASTE</th>\n",
              "      <th>LOSS_OF_SMELL</th>\n",
              "      <th>ITCHY_NOSE</th>\n",
              "      <th>ITCHY_EYES</th>\n",
              "      <th>ITCHY_MOUTH</th>\n",
              "      <th>ITCHY_INNER_EAR</th>\n",
              "      <th>SNEEZING</th>\n",
              "      <th>PINK_EYE</th>\n",
              "      <th>TYPE</th>\n",
              "    </tr>\n",
              "  </thead>\n",
              "  <tbody>\n",
              "    <tr>\n",
              "      <th>0</th>\n",
              "      <td>0</td>\n",
              "      <td>0</td>\n",
              "      <td>1</td>\n",
              "      <td>0</td>\n",
              "      <td>1</td>\n",
              "      <td>0</td>\n",
              "      <td>0</td>\n",
              "      <td>0</td>\n",
              "      <td>0</td>\n",
              "      <td>0</td>\n",
              "      <td>0</td>\n",
              "      <td>0</td>\n",
              "      <td>1</td>\n",
              "      <td>0</td>\n",
              "      <td>1</td>\n",
              "      <td>0</td>\n",
              "      <td>0</td>\n",
              "      <td>1</td>\n",
              "      <td>0</td>\n",
              "      <td>1</td>\n",
              "      <td>ALLERGY</td>\n",
              "    </tr>\n",
              "    <tr>\n",
              "      <th>1</th>\n",
              "      <td>0</td>\n",
              "      <td>0</td>\n",
              "      <td>1</td>\n",
              "      <td>0</td>\n",
              "      <td>0</td>\n",
              "      <td>0</td>\n",
              "      <td>0</td>\n",
              "      <td>0</td>\n",
              "      <td>0</td>\n",
              "      <td>0</td>\n",
              "      <td>0</td>\n",
              "      <td>0</td>\n",
              "      <td>1</td>\n",
              "      <td>0</td>\n",
              "      <td>1</td>\n",
              "      <td>0</td>\n",
              "      <td>1</td>\n",
              "      <td>1</td>\n",
              "      <td>1</td>\n",
              "      <td>1</td>\n",
              "      <td>ALLERGY</td>\n",
              "    </tr>\n",
              "    <tr>\n",
              "      <th>2</th>\n",
              "      <td>0</td>\n",
              "      <td>1</td>\n",
              "      <td>1</td>\n",
              "      <td>1</td>\n",
              "      <td>0</td>\n",
              "      <td>0</td>\n",
              "      <td>0</td>\n",
              "      <td>0</td>\n",
              "      <td>0</td>\n",
              "      <td>0</td>\n",
              "      <td>0</td>\n",
              "      <td>0</td>\n",
              "      <td>1</td>\n",
              "      <td>0</td>\n",
              "      <td>1</td>\n",
              "      <td>0</td>\n",
              "      <td>0</td>\n",
              "      <td>0</td>\n",
              "      <td>0</td>\n",
              "      <td>1</td>\n",
              "      <td>ALLERGY</td>\n",
              "    </tr>\n",
              "    <tr>\n",
              "      <th>3</th>\n",
              "      <td>0</td>\n",
              "      <td>0</td>\n",
              "      <td>0</td>\n",
              "      <td>1</td>\n",
              "      <td>1</td>\n",
              "      <td>0</td>\n",
              "      <td>0</td>\n",
              "      <td>0</td>\n",
              "      <td>0</td>\n",
              "      <td>0</td>\n",
              "      <td>0</td>\n",
              "      <td>0</td>\n",
              "      <td>1</td>\n",
              "      <td>1</td>\n",
              "      <td>0</td>\n",
              "      <td>0</td>\n",
              "      <td>1</td>\n",
              "      <td>0</td>\n",
              "      <td>1</td>\n",
              "      <td>1</td>\n",
              "      <td>ALLERGY</td>\n",
              "    </tr>\n",
              "    <tr>\n",
              "      <th>4</th>\n",
              "      <td>0</td>\n",
              "      <td>0</td>\n",
              "      <td>1</td>\n",
              "      <td>0</td>\n",
              "      <td>1</td>\n",
              "      <td>0</td>\n",
              "      <td>0</td>\n",
              "      <td>0</td>\n",
              "      <td>0</td>\n",
              "      <td>0</td>\n",
              "      <td>0</td>\n",
              "      <td>0</td>\n",
              "      <td>1</td>\n",
              "      <td>1</td>\n",
              "      <td>0</td>\n",
              "      <td>1</td>\n",
              "      <td>0</td>\n",
              "      <td>1</td>\n",
              "      <td>1</td>\n",
              "      <td>1</td>\n",
              "      <td>ALLERGY</td>\n",
              "    </tr>\n",
              "  </tbody>\n",
              "</table>\n",
              "</div>"
            ],
            "text/plain": [
              "   COUGH  MUSCLE_ACHES  TIREDNESS  ...  SNEEZING  PINK_EYE     TYPE\n",
              "0      0             0          1  ...         0         1  ALLERGY\n",
              "1      0             0          1  ...         1         1  ALLERGY\n",
              "2      0             1          1  ...         0         1  ALLERGY\n",
              "3      0             0          0  ...         1         1  ALLERGY\n",
              "4      0             0          1  ...         1         1  ALLERGY\n",
              "\n",
              "[5 rows x 21 columns]"
            ]
          },
          "metadata": {
            "tags": []
          },
          "execution_count": 5
        }
      ]
    },
    {
      "cell_type": "code",
      "metadata": {
        "colab": {
          "base_uri": "https://localhost:8080/"
        },
        "id": "myc5gdPzqIP9",
        "outputId": "6af9fbb1-212e-409e-e2ae-14953818de04"
      },
      "source": [
        "# Import label encoder\n",
        "from sklearn import preprocessing\n",
        "\n",
        "# label_encoder object knows how to understand word labels.\n",
        "label_encoder = preprocessing.LabelEncoder()\n",
        "\n",
        "# Encode labels in column 'species'.\n",
        "df['TYPE']= label_encoder.fit_transform(df['TYPE'])\n",
        "\n",
        "df['TYPE'].unique()\n"
      ],
      "execution_count": null,
      "outputs": [
        {
          "output_type": "execute_result",
          "data": {
            "text/plain": [
              "array([0, 1, 2, 3])"
            ]
          },
          "metadata": {
            "tags": []
          },
          "execution_count": 6
        }
      ]
    },
    {
      "cell_type": "code",
      "metadata": {
        "id": "YdCEqKkynANx"
      },
      "source": [
        "df = df.sample(frac=1)"
      ],
      "execution_count": null,
      "outputs": []
    },
    {
      "cell_type": "code",
      "metadata": {
        "id": "3WGdFw4EsyX-"
      },
      "source": [
        "X = df.drop('TYPE',axis=1)\n",
        "y = df['TYPE']"
      ],
      "execution_count": null,
      "outputs": []
    },
    {
      "cell_type": "code",
      "metadata": {
        "id": "oxVwB9XAyDYr",
        "colab": {
          "base_uri": "https://localhost:8080/"
        },
        "outputId": "50d1180f-7c9e-4f95-ff96-a869c5e79b6c"
      },
      "source": [
        "from imblearn.over_sampling import SMOTE"
      ],
      "execution_count": null,
      "outputs": [
        {
          "output_type": "stream",
          "text": [
            "/usr/local/lib/python3.7/dist-packages/sklearn/externals/six.py:31: FutureWarning: The module is deprecated in version 0.21 and will be removed in version 0.23 since we've dropped support for Python 2.7. Please rely on the official version of six (https://pypi.org/project/six/).\n",
            "  \"(https://pypi.org/project/six/).\", FutureWarning)\n",
            "/usr/local/lib/python3.7/dist-packages/sklearn/utils/deprecation.py:144: FutureWarning: The sklearn.neighbors.base module is  deprecated in version 0.22 and will be removed in version 0.24. The corresponding classes / functions should instead be imported from sklearn.neighbors. Anything that cannot be imported from sklearn.neighbors is now part of the private API.\n",
            "  warnings.warn(message, FutureWarning)\n"
          ],
          "name": "stderr"
        }
      ]
    },
    {
      "cell_type": "code",
      "metadata": {
        "id": "-eAzMNvsyE28"
      },
      "source": [
        "Sm = SMOTE()"
      ],
      "execution_count": null,
      "outputs": []
    },
    {
      "cell_type": "code",
      "metadata": {
        "colab": {
          "base_uri": "https://localhost:8080/"
        },
        "id": "1xQExIleyGr7",
        "outputId": "c692a930-12c3-4320-ce4f-099d14afb83a"
      },
      "source": [
        "X,y = Sm.fit_resample(X,y)"
      ],
      "execution_count": null,
      "outputs": [
        {
          "output_type": "stream",
          "text": [
            "/usr/local/lib/python3.7/dist-packages/sklearn/utils/deprecation.py:87: FutureWarning: Function safe_indexing is deprecated; safe_indexing is deprecated in version 0.22 and will be removed in version 0.24.\n",
            "  warnings.warn(msg, category=FutureWarning)\n",
            "/usr/local/lib/python3.7/dist-packages/sklearn/utils/deprecation.py:87: FutureWarning: Function safe_indexing is deprecated; safe_indexing is deprecated in version 0.22 and will be removed in version 0.24.\n",
            "  warnings.warn(msg, category=FutureWarning)\n",
            "/usr/local/lib/python3.7/dist-packages/sklearn/utils/deprecation.py:87: FutureWarning: Function safe_indexing is deprecated; safe_indexing is deprecated in version 0.22 and will be removed in version 0.24.\n",
            "  warnings.warn(msg, category=FutureWarning)\n"
          ],
          "name": "stderr"
        }
      ]
    },
    {
      "cell_type": "code",
      "metadata": {
        "id": "_Jf1iNxHUKes"
      },
      "source": [
        "from collections import Counter"
      ],
      "execution_count": null,
      "outputs": []
    },
    {
      "cell_type": "code",
      "metadata": {
        "id": "516OeEtvUkB5"
      },
      "source": [
        "from sklearn.model_selection import train_test_split"
      ],
      "execution_count": null,
      "outputs": []
    },
    {
      "cell_type": "code",
      "metadata": {
        "id": "DZ-s-O--ohpk"
      },
      "source": [
        "X_train, X_test, y_train, y_test = train_test_split(X, y, test_size=0.25, stratify=y)"
      ],
      "execution_count": null,
      "outputs": []
    },
    {
      "cell_type": "code",
      "metadata": {
        "id": "vg1c-PHwtNet"
      },
      "source": [
        "#X_train_re, X_test_re, y_train_re, y_test_re = train_test_split(X_train, y_train, test_size=0.25, stratify=y_train)"
      ],
      "execution_count": null,
      "outputs": []
    },
    {
      "cell_type": "code",
      "metadata": {
        "id": "8echTKjijOk8"
      },
      "source": [
        "from sklearn.ensemble import RandomForestClassifier\n",
        "from sklearn.metrics import auc, roc_curve"
      ],
      "execution_count": null,
      "outputs": []
    },
    {
      "cell_type": "code",
      "metadata": {
        "id": "zVx528fHtr3q"
      },
      "source": [
        "def metrics(target,preds):\n",
        "  fpr,tpr,thresholds = roc_curve(target,preds)\n",
        "  return auc(target,preds)"
      ],
      "execution_count": null,
      "outputs": []
    },
    {
      "cell_type": "code",
      "metadata": {
        "id": "Ba7pYndPt14B"
      },
      "source": [
        "from sklearn.ensemble import RandomForestClassifier\n",
        "Rf = RandomForestClassifier(n_estimators=1000)\n",
        "model_Rf = Rf.fit(X_train,y_train)\n",
        "preds = model.predict(X_test)"
      ],
      "execution_count": null,
      "outputs": []
    },
    {
      "cell_type": "code",
      "metadata": {
        "colab": {
          "base_uri": "https://localhost:8080/"
        },
        "id": "3mT51H35zLCw",
        "outputId": "bcb32d64-367c-4adc-9de7-94f48e944c91"
      },
      "source": [
        "preds"
      ],
      "execution_count": null,
      "outputs": [
        {
          "output_type": "execute_result",
          "data": {
            "text/plain": [
              "array([[0.2577821 , 0.20904966, 0.29398665, 0.23918161],\n",
              "       [0.19361126, 0.25603855, 0.27290192, 0.2774483 ],\n",
              "       [0.16668308, 0.25248906, 0.27693498, 0.30389285],\n",
              "       ...,\n",
              "       [0.25071055, 0.18705876, 0.31171954, 0.25051126],\n",
              "       [0.17073856, 0.24707717, 0.26878896, 0.31339532],\n",
              "       [0.19077578, 0.23759127, 0.2755507 , 0.29608223]], dtype=float32)"
            ]
          },
          "metadata": {
            "tags": []
          },
          "execution_count": 295
        }
      ]
    },
    {
      "cell_type": "code",
      "metadata": {
        "id": "7-dZrod0ybM2"
      },
      "source": [
        "preds = np.argmax(preds, axis=1)"
      ],
      "execution_count": null,
      "outputs": []
    },
    {
      "cell_type": "code",
      "metadata": {
        "colab": {
          "base_uri": "https://localhost:8080/"
        },
        "id": "HlgmtSdzzmyT",
        "outputId": "5b48f2dc-1516-4d6a-d989-85fc204d6f52"
      },
      "source": [
        "preds"
      ],
      "execution_count": null,
      "outputs": [
        {
          "output_type": "execute_result",
          "data": {
            "text/plain": [
              "array([2, 3, 3, ..., 2, 3, 3])"
            ]
          },
          "metadata": {
            "tags": []
          },
          "execution_count": 297
        }
      ]
    },
    {
      "cell_type": "code",
      "metadata": {
        "colab": {
          "base_uri": "https://localhost:8080/"
        },
        "id": "xF6SGxG3zomm",
        "outputId": "0eb6a022-2759-45c3-e395-b2efb23959b7"
      },
      "source": [
        "y_test"
      ],
      "execution_count": null,
      "outputs": [
        {
          "output_type": "execute_result",
          "data": {
            "text/plain": [
              "array([3, 1, 1, ..., 3, 0, 0])"
            ]
          },
          "metadata": {
            "tags": []
          },
          "execution_count": 283
        }
      ]
    },
    {
      "cell_type": "code",
      "metadata": {
        "id": "amu62sUOv_DH"
      },
      "source": [
        "from sklearn.metrics import accuracy_score, confusion_matrix, classification_report"
      ],
      "execution_count": null,
      "outputs": []
    },
    {
      "cell_type": "code",
      "metadata": {
        "colab": {
          "base_uri": "https://localhost:8080/"
        },
        "id": "rzdX5V0Exy_I",
        "outputId": "e481d6a9-8aa4-4b2a-f92c-37e13cefca04"
      },
      "source": [
        "print(classification_report(y_test, preds))"
      ],
      "execution_count": null,
      "outputs": [
        {
          "output_type": "stream",
          "text": [
            "              precision    recall  f1-score   support\n",
            "\n",
            "           0       0.11      0.01      0.02      6250\n",
            "           1       0.14      0.01      0.02      6250\n",
            "           2       0.35      0.83      0.49      6250\n",
            "           3       0.12      0.17      0.14      6250\n",
            "\n",
            "    accuracy                           0.26     25000\n",
            "   macro avg       0.18      0.26      0.17     25000\n",
            "weighted avg       0.18      0.26      0.17     25000\n",
            "\n"
          ],
          "name": "stdout"
        }
      ]
    },
    {
      "cell_type": "code",
      "metadata": {
        "id": "PyakRsIV3C5F"
      },
      "source": [
        "y_test = pd.DataFrame(y_test)"
      ],
      "execution_count": null,
      "outputs": []
    },
    {
      "cell_type": "code",
      "metadata": {
        "id": "GwI4y-kO3C7g"
      },
      "source": [
        "y_test = pd.get_dummies(y_test, columns=[0])"
      ],
      "execution_count": null,
      "outputs": []
    },
    {
      "cell_type": "code",
      "metadata": {
        "id": "yxOVJkgo233L"
      },
      "source": [
        "y_train = pd.DataFrame(y_train)"
      ],
      "execution_count": null,
      "outputs": []
    },
    {
      "cell_type": "code",
      "metadata": {
        "id": "8F85is503JHN"
      },
      "source": [
        "y_train = pd.get_dummies(y_train, columns=[0])"
      ],
      "execution_count": null,
      "outputs": []
    },
    {
      "cell_type": "code",
      "metadata": {
        "id": "Leug7aSysTyy"
      },
      "source": [
        "from tensorflow.keras.models import Sequential"
      ],
      "execution_count": null,
      "outputs": []
    },
    {
      "cell_type": "code",
      "metadata": {
        "id": "QKOfk0wtsW76"
      },
      "source": [
        "from sklearn.keras.layers import Dense, Dropout"
      ],
      "execution_count": null,
      "outputs": []
    },
    {
      "cell_type": "code",
      "metadata": {
        "id": "pNUncS8lyqZW"
      },
      "source": [
        "model = Sequential()\n",
        "\n",
        "model.add(Dense(64, activation='relu'))\n",
        "\n",
        "model.add(Dense(32, activation='relu'))\n",
        "model.add(Dropout(0.10))\n",
        "\n",
        "model.add(Dense(4, activation='softmax'))\n",
        "\n",
        "model.compile(loss='categorical_crossentropy', optimizer='rmsprop', metrics=['accuracy'])"
      ],
      "execution_count": null,
      "outputs": []
    },
    {
      "cell_type": "code",
      "metadata": {
        "id": "9skEsegiw1tB"
      },
      "source": [
        "from tensorflow.keras.callbacks import EarlyStopping"
      ],
      "execution_count": null,
      "outputs": []
    },
    {
      "cell_type": "code",
      "metadata": {
        "id": "qHtsC543w3In"
      },
      "source": [
        "early_stop = EarlyStopping(monitor='val_loss', mode='min', patience=25)"
      ],
      "execution_count": null,
      "outputs": []
    },
    {
      "cell_type": "code",
      "metadata": {
        "id": "eNWb0edd4j27"
      },
      "source": [
        "validation_data = (X_test,y_test)"
      ],
      "execution_count": null,
      "outputs": []
    },
    {
      "cell_type": "code",
      "metadata": {
        "colab": {
          "base_uri": "https://localhost:8080/"
        },
        "id": "COXQy1Jo28cd",
        "outputId": "86f8fffd-154d-4447-eac3-124a291cd49e"
      },
      "source": [
        "result = model.fit(X_train,y_train,validation_data=validation_data, epochs=25,callbacks=[early_stop], verbose=1)"
      ],
      "execution_count": null,
      "outputs": [
        {
          "output_type": "stream",
          "text": [
            "Epoch 1/25\n",
            "2344/2344 [==============================] - 4s 2ms/step - loss: 0.2118 - accuracy: 0.9370 - val_loss: 0.1636 - val_accuracy: 0.9524\n",
            "Epoch 2/25\n",
            "2344/2344 [==============================] - 4s 2ms/step - loss: 0.1621 - accuracy: 0.9511 - val_loss: 0.1551 - val_accuracy: 0.9512\n",
            "Epoch 3/25\n",
            "2344/2344 [==============================] - 4s 2ms/step - loss: 0.1595 - accuracy: 0.9510 - val_loss: 0.1647 - val_accuracy: 0.9524\n",
            "Epoch 4/25\n",
            "2344/2344 [==============================] - 4s 2ms/step - loss: 0.1605 - accuracy: 0.9513 - val_loss: 0.1572 - val_accuracy: 0.9524\n",
            "Epoch 5/25\n",
            "2344/2344 [==============================] - 4s 2ms/step - loss: 0.1595 - accuracy: 0.9518 - val_loss: 0.1561 - val_accuracy: 0.9524\n",
            "Epoch 6/25\n",
            "2344/2344 [==============================] - 4s 2ms/step - loss: 0.1600 - accuracy: 0.9519 - val_loss: 0.1569 - val_accuracy: 0.9524\n",
            "Epoch 7/25\n",
            "2344/2344 [==============================] - 4s 2ms/step - loss: 0.1599 - accuracy: 0.9518 - val_loss: 0.1593 - val_accuracy: 0.9524\n",
            "Epoch 8/25\n",
            "2344/2344 [==============================] - 4s 2ms/step - loss: 0.1602 - accuracy: 0.9517 - val_loss: 0.1619 - val_accuracy: 0.9522\n",
            "Epoch 9/25\n",
            "2344/2344 [==============================] - 4s 2ms/step - loss: 0.1605 - accuracy: 0.9517 - val_loss: 0.1626 - val_accuracy: 0.9524\n",
            "Epoch 10/25\n",
            "2344/2344 [==============================] - 4s 2ms/step - loss: 0.1608 - accuracy: 0.9512 - val_loss: 0.1629 - val_accuracy: 0.9524\n",
            "Epoch 11/25\n",
            "2344/2344 [==============================] - 4s 2ms/step - loss: 0.1611 - accuracy: 0.9514 - val_loss: 0.1597 - val_accuracy: 0.9516\n",
            "Epoch 12/25\n",
            "2344/2344 [==============================] - 4s 2ms/step - loss: 0.1618 - accuracy: 0.9509 - val_loss: 0.1605 - val_accuracy: 0.9507\n",
            "Epoch 13/25\n",
            "2344/2344 [==============================] - 4s 2ms/step - loss: 0.1613 - accuracy: 0.9512 - val_loss: 0.1602 - val_accuracy: 0.9524\n",
            "Epoch 14/25\n",
            "2344/2344 [==============================] - 4s 2ms/step - loss: 0.1617 - accuracy: 0.9518 - val_loss: 0.1579 - val_accuracy: 0.9514\n",
            "Epoch 15/25\n",
            "2344/2344 [==============================] - 4s 2ms/step - loss: 0.1620 - accuracy: 0.9517 - val_loss: 0.1623 - val_accuracy: 0.9518\n",
            "Epoch 16/25\n",
            "2344/2344 [==============================] - 4s 2ms/step - loss: 0.1625 - accuracy: 0.9517 - val_loss: 0.1635 - val_accuracy: 0.9524\n",
            "Epoch 17/25\n",
            "2344/2344 [==============================] - 4s 2ms/step - loss: 0.1619 - accuracy: 0.9520 - val_loss: 0.1655 - val_accuracy: 0.9524\n",
            "Epoch 18/25\n",
            "2344/2344 [==============================] - 4s 2ms/step - loss: 0.1641 - accuracy: 0.9517 - val_loss: 0.1724 - val_accuracy: 0.9524\n",
            "Epoch 19/25\n",
            "2344/2344 [==============================] - 4s 2ms/step - loss: 0.1640 - accuracy: 0.9517 - val_loss: 0.1754 - val_accuracy: 0.9524\n",
            "Epoch 20/25\n",
            "2344/2344 [==============================] - 4s 2ms/step - loss: 0.1642 - accuracy: 0.9516 - val_loss: 0.1628 - val_accuracy: 0.9524\n",
            "Epoch 21/25\n",
            "2344/2344 [==============================] - 4s 2ms/step - loss: 0.1643 - accuracy: 0.9517 - val_loss: 0.1652 - val_accuracy: 0.9522\n",
            "Epoch 22/25\n",
            "2344/2344 [==============================] - 4s 2ms/step - loss: 0.1676 - accuracy: 0.9515 - val_loss: 0.1636 - val_accuracy: 0.9524\n",
            "Epoch 23/25\n",
            "2344/2344 [==============================] - 4s 2ms/step - loss: 0.1656 - accuracy: 0.9512 - val_loss: 0.1635 - val_accuracy: 0.9522\n",
            "Epoch 24/25\n",
            "2344/2344 [==============================] - 4s 2ms/step - loss: 0.1665 - accuracy: 0.9513 - val_loss: 0.1618 - val_accuracy: 0.9493\n",
            "Epoch 25/25\n",
            "2344/2344 [==============================] - 4s 2ms/step - loss: 0.1672 - accuracy: 0.9514 - val_loss: 0.1763 - val_accuracy: 0.9524\n"
          ],
          "name": "stdout"
        }
      ]
    },
    {
      "cell_type": "code",
      "metadata": {
        "id": "R6bk-mUY3Amy"
      },
      "source": [
        "losses = pd.DataFrame(model.history.history)"
      ],
      "execution_count": null,
      "outputs": []
    },
    {
      "cell_type": "code",
      "metadata": {
        "colab": {
          "base_uri": "https://localhost:8080/",
          "height": 282
        },
        "id": "C26yddKJ3_pK",
        "outputId": "a739f3a5-210f-44bc-f703-f7e81be22b79"
      },
      "source": [
        "losses[['val_accuracy','accuracy']].plot()"
      ],
      "execution_count": null,
      "outputs": [
        {
          "output_type": "execute_result",
          "data": {
            "text/plain": [
              "<matplotlib.axes._subplots.AxesSubplot at 0x7fe662e0ffd0>"
            ]
          },
          "metadata": {
            "tags": []
          },
          "execution_count": 321
        },
        {
          "output_type": "display_data",
          "data": {
            "image/png": "[encoded data removed]",
            "text/plain": [
              "<Figure size 432x288 with 1 Axes>"
            ]
          },
          "metadata": {
            "tags": [],
            "needs_background": "light"
          }
        }
      ]
    },
    {
      "cell_type": "code",
      "metadata": {
        "colab": {
          "base_uri": "https://localhost:8080/",
          "height": 282
        },
        "id": "ak4BQNy-4CbJ",
        "outputId": "9672fef3-9037-424e-e619-10bc7d7e022c"
      },
      "source": [
        "losses[['val_loss','loss']].plot()"
      ],
      "execution_count": null,
      "outputs": [
        {
          "output_type": "execute_result",
          "data": {
            "text/plain": [
              "<matplotlib.axes._subplots.AxesSubplot at 0x7fe661b99710>"
            ]
          },
          "metadata": {
            "tags": []
          },
          "execution_count": 322
        },
        {
          "output_type": "display_data",
          "data": {
            "image/png": "[encoded data removed]",
            "text/plain": [
              "<Figure size 432x288 with 1 Axes>"
            ]
          },
          "metadata": {
            "tags": [],
            "needs_background": "light"
          }
        }
      ]
    },
    {
      "cell_type": "code",
      "metadata": {
        "colab": {
          "base_uri": "https://localhost:8080/"
        },
        "id": "33EX5hNd4GPt",
        "outputId": "7b5c807e-1b9c-4fe5-9efc-1840ab4c8dbd"
      },
      "source": [
        "X_test.shape"
      ],
      "execution_count": null,
      "outputs": [
        {
          "output_type": "execute_result",
          "data": {
            "text/plain": [
              "(25000, 20)"
            ]
          },
          "metadata": {
            "tags": []
          },
          "execution_count": 324
        }
      ]
    },
    {
      "cell_type": "code",
      "metadata": {
        "colab": {
          "base_uri": "https://localhost:8080/"
        },
        "id": "f0zB0ZYN4K14",
        "outputId": "dc5645f9-e98e-4f5e-c3ff-303a2bd846cd"
      },
      "source": [
        "X_train.shape"
      ],
      "execution_count": null,
      "outputs": [
        {
          "output_type": "execute_result",
          "data": {
            "text/plain": [
              "(75000, 20)"
            ]
          },
          "metadata": {
            "tags": []
          },
          "execution_count": 325
        }
      ]
    },
    {
      "cell_type": "code",
      "metadata": {
        "id": "XB-8vrzG4fwZ"
      },
      "source": [
        "preds = model.predict(X_test)"
      ],
      "execution_count": null,
      "outputs": []
    },
    {
      "cell_type": "code",
      "metadata": {
        "colab": {
          "base_uri": "https://localhost:8080/"
        },
        "id": "Y4S_wuBj5hV6",
        "outputId": "df583e08-e76d-4d69-c116-3a092a69ab8a"
      },
      "source": [
        "preds.shape"
      ],
      "execution_count": null,
      "outputs": [
        {
          "output_type": "execute_result",
          "data": {
            "text/plain": [
              "(25000, 4)"
            ]
          },
          "metadata": {
            "tags": []
          },
          "execution_count": 335
        }
      ]
    },
    {
      "cell_type": "code",
      "metadata": {
        "colab": {
          "base_uri": "https://localhost:8080/"
        },
        "id": "F9tcFHWT5Y-V",
        "outputId": "789d0403-e98d-4c6b-f32c-9e6f2bcac68b"
      },
      "source": [
        "y_test.shape"
      ],
      "execution_count": null,
      "outputs": [
        {
          "output_type": "execute_result",
          "data": {
            "text/plain": [
              "(25000, 4)"
            ]
          },
          "metadata": {
            "tags": []
          },
          "execution_count": 336
        }
      ]
    },
    {
      "cell_type": "code",
      "metadata": {
        "colab": {
          "base_uri": "https://localhost:8080/",
          "height": 419
        },
        "id": "2aEhXjt75eFe",
        "outputId": "6d5b5ad7-5d9b-46c0-fbaa-95f57abb96d1"
      },
      "source": [
        "y_test"
      ],
      "execution_count": null,
      "outputs": [
        {
          "output_type": "execute_result",
          "data": {
            "text/html": [
              "<div>\n",
              "<style scoped>\n",
              "    .dataframe tbody tr th:only-of-type {\n",
              "        vertical-align: middle;\n",
              "    }\n",
              "\n",
              "    .dataframe tbody tr th {\n",
              "        vertical-align: top;\n",
              "    }\n",
              "\n",
              "    .dataframe thead th {\n",
              "        text-align: right;\n",
              "    }\n",
              "</style>\n",
              "<table border=\"1\" class=\"dataframe\">\n",
              "  <thead>\n",
              "    <tr style=\"text-align: right;\">\n",
              "      <th></th>\n",
              "      <th>0_0</th>\n",
              "      <th>0_1</th>\n",
              "      <th>0_2</th>\n",
              "      <th>0_3</th>\n",
              "    </tr>\n",
              "  </thead>\n",
              "  <tbody>\n",
              "    <tr>\n",
              "      <th>0</th>\n",
              "      <td>0</td>\n",
              "      <td>0</td>\n",
              "      <td>0</td>\n",
              "      <td>1</td>\n",
              "    </tr>\n",
              "    <tr>\n",
              "      <th>1</th>\n",
              "      <td>0</td>\n",
              "      <td>1</td>\n",
              "      <td>0</td>\n",
              "      <td>0</td>\n",
              "    </tr>\n",
              "    <tr>\n",
              "      <th>2</th>\n",
              "      <td>0</td>\n",
              "      <td>1</td>\n",
              "      <td>0</td>\n",
              "      <td>0</td>\n",
              "    </tr>\n",
              "    <tr>\n",
              "      <th>3</th>\n",
              "      <td>0</td>\n",
              "      <td>1</td>\n",
              "      <td>0</td>\n",
              "      <td>0</td>\n",
              "    </tr>\n",
              "    <tr>\n",
              "      <th>4</th>\n",
              "      <td>1</td>\n",
              "      <td>0</td>\n",
              "      <td>0</td>\n",
              "      <td>0</td>\n",
              "    </tr>\n",
              "    <tr>\n",
              "      <th>...</th>\n",
              "      <td>...</td>\n",
              "      <td>...</td>\n",
              "      <td>...</td>\n",
              "      <td>...</td>\n",
              "    </tr>\n",
              "    <tr>\n",
              "      <th>24995</th>\n",
              "      <td>0</td>\n",
              "      <td>1</td>\n",
              "      <td>0</td>\n",
              "      <td>0</td>\n",
              "    </tr>\n",
              "    <tr>\n",
              "      <th>24996</th>\n",
              "      <td>0</td>\n",
              "      <td>0</td>\n",
              "      <td>0</td>\n",
              "      <td>1</td>\n",
              "    </tr>\n",
              "    <tr>\n",
              "      <th>24997</th>\n",
              "      <td>0</td>\n",
              "      <td>0</td>\n",
              "      <td>0</td>\n",
              "      <td>1</td>\n",
              "    </tr>\n",
              "    <tr>\n",
              "      <th>24998</th>\n",
              "      <td>1</td>\n",
              "      <td>0</td>\n",
              "      <td>0</td>\n",
              "      <td>0</td>\n",
              "    </tr>\n",
              "    <tr>\n",
              "      <th>24999</th>\n",
              "      <td>1</td>\n",
              "      <td>0</td>\n",
              "      <td>0</td>\n",
              "      <td>0</td>\n",
              "    </tr>\n",
              "  </tbody>\n",
              "</table>\n",
              "<p>25000 rows × 4 columns</p>\n",
              "</div>"
            ],
            "text/plain": [
              "       0_0  0_1  0_2  0_3\n",
              "0        0    0    0    1\n",
              "1        0    1    0    0\n",
              "2        0    1    0    0\n",
              "3        0    1    0    0\n",
              "4        1    0    0    0\n",
              "...    ...  ...  ...  ...\n",
              "24995    0    1    0    0\n",
              "24996    0    0    0    1\n",
              "24997    0    0    0    1\n",
              "24998    1    0    0    0\n",
              "24999    1    0    0    0\n",
              "\n",
              "[25000 rows x 4 columns]"
            ]
          },
          "metadata": {
            "tags": []
          },
          "execution_count": 333
        }
      ]
    },
    {
      "cell_type": "code",
      "metadata": {
        "id": "b14qNiKqyppp"
      },
      "source": [
        "preds = model.predict(X_test)"
      ],
      "execution_count": null,
      "outputs": []
    },
    {
      "cell_type": "code",
      "metadata": {
        "id": "bKvcfdJX5wLd"
      },
      "source": [
        "predictions_df = np.argmax(preds, axis=1)"
      ],
      "execution_count": null,
      "outputs": []
    },
    {
      "cell_type": "code",
      "metadata": {
        "id": "KjkErXY75_IB"
      },
      "source": [
        "predictions_df = pd.DataFrame(predictions_df)"
      ],
      "execution_count": null,
      "outputs": []
    },
    {
      "cell_type": "code",
      "metadata": {
        "id": "qNtsDHk15_MO"
      },
      "source": [
        "predictions_df = pd.get_dummies(predictions_df, columns=[0])"
      ],
      "execution_count": null,
      "outputs": []
    },
    {
      "cell_type": "code",
      "metadata": {
        "colab": {
          "base_uri": "https://localhost:8080/"
        },
        "id": "tEinxq_05lO5",
        "outputId": "8d27e0ef-2d13-401a-b35a-b81a1c229556"
      },
      "source": [
        "print(classification_report(y_test,predictions_df))"
      ],
      "execution_count": null,
      "outputs": [
        {
          "output_type": "stream",
          "text": [
            "              precision    recall  f1-score   support\n",
            "\n",
            "           0       1.00      0.96      0.98      6250\n",
            "           1       0.90      1.00      0.95      6250\n",
            "           2       0.93      0.94      0.94      6250\n",
            "           3       1.00      0.91      0.95      6250\n",
            "\n",
            "   micro avg       0.95      0.95      0.95     25000\n",
            "   macro avg       0.96      0.95      0.95     25000\n",
            "weighted avg       0.96      0.95      0.95     25000\n",
            " samples avg       0.95      0.95      0.95     25000\n",
            "\n"
          ],
          "name": "stdout"
        }
      ]
    },
    {
      "cell_type": "code",
      "metadata": {
        "id": "kbuk4brP5rL3"
      },
      "source": [
        "model.save('FLU_ALLERGY_COVID_COLD.h5')"
      ],
      "execution_count": null,
      "outputs": []
    }
  ]
}