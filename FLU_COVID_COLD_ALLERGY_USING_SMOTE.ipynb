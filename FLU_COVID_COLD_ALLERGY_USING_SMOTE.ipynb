{
  "nbformat": 4,
  "nbformat_minor": 0,
  "metadata": {
    "colab": {
      "provenance": []
    },
    "kernelspec": {
      "name": "python3",
      "display_name": "Python 3"
    },
    "language_info": {
      "name": "python"
    }
  },
  "cells": [
    {
      "cell_type": "code",
      "metadata": {
        "colab": {
          "base_uri": "https://localhost:8080/"
        },
        "id": "-vXRKxIgUz6E",
        "outputId": "c574c547-da9b-486e-b836-72302d145d14"
      },
      "source": [
        "!pip install kaggle --upgrade\n",
        "!mkdir -p ~/.kaggle/\n",
        "!cp kaggle.json ~/.kaggle/\n",
        "!chmod 600 ~/.kaggle/kaggle.json\n",
        "!kaggle datasets download -d walterconway/covid-flu-cold-symptoms"
      ],
      "execution_count": null,
      "outputs": [
        {
          "output_type": "stream",
          "text": [
            "Requirement already satisfied: kaggle in /usr/local/lib/python3.7/dist-packages (1.5.12)\n",
            "Requirement already satisfied: certifi in /usr/local/lib/python3.7/dist-packages (from kaggle) (2021.5.30)\n",
            "Requirement already satisfied: requests in /usr/local/lib/python3.7/dist-packages (from kaggle) (2.23.0)\n",
            "Requirement already satisfied: tqdm in /usr/local/lib/python3.7/dist-packages (from kaggle) (4.62.0)\n",
            "Requirement already satisfied: python-dateutil in /usr/local/lib/python3.7/dist-packages (from kaggle) (2.8.2)\n",
            "Requirement already satisfied: python-slugify in /usr/local/lib/python3.7/dist-packages (from kaggle) (5.0.2)\n",
            "Requirement already satisfied: urllib3 in /usr/local/lib/python3.7/dist-packages (from kaggle) (1.24.3)\n",
            "Requirement already satisfied: six>=1.10 in /usr/local/lib/python3.7/dist-packages (from kaggle) (1.15.0)\n",
            "Requirement already satisfied: text-unidecode>=1.3 in /usr/local/lib/python3.7/dist-packages (from python-slugify->kaggle) (1.3)\n",
            "Requirement already satisfied: chardet<4,>=3.0.2 in /usr/local/lib/python3.7/dist-packages (from requests->kaggle) (3.0.4)\n",
            "Requirement already satisfied: idna<3,>=2.5 in /usr/local/lib/python3.7/dist-packages (from requests->kaggle) (2.10)\n",
            "Downloading covid-flu-cold-symptoms.zip to /content\n",
            "  0% 0.00/210k [00:00<?, ?B/s]\n",
            "100% 210k/210k [00:00<00:00, 76.8MB/s]\n"
          ],
          "name": "stdout"
        }
      ]
    },
    {
      "cell_type": "code",
      "metadata": {
        "colab": {
          "base_uri": "https://localhost:8080/"
        },
        "id": "xgfmCMTSVG8P",
        "outputId": "1388fed9-b24d-4985-b358-3d013de0d1ef"
      },
      "source": [
        "!unzip /content/covid-flu-cold-symptoms.zip"
      ],
      "execution_count": null,
      "outputs": [
        {
          "output_type": "stream",
          "text": [
            "Archive:  /content/covid-flu-cold-symptoms.zip\n",
            "  inflating: large_data.csv          \n"
          ],
          "name": "stdout"
        }
      ]
    },
    {
      "cell_type": "code",
      "metadata": {
        "id": "8BDbJ5S-VMEE"
      },
      "source": [
        "import numpy as np\n",
        "import pandas as pd\n",
        "import seaborn as sns\n",
        "import matplotlib.pyplot as plt\n",
        "%matplotlib inline"
      ],
      "execution_count": null,
      "outputs": []
    },
    {
      "cell_type": "code",
      "metadata": {
        "id": "BrOcYusOVRxF"
      },
      "source": [
        "df = pd.read_csv('/content/large_data.csv')"
      ],
      "execution_count": null,
      "outputs": []
    },
    {
      "cell_type": "code",
      "metadata": {
        "colab": {
          "base_uri": "https://localhost:8080/",
          "height": 224
        },
        "id": "dhxjc42iVUzy",
        "outputId": "b7fa218c-5132-434f-805a-abc0a6ed7134"
      },
      "source": [
        "df.head()"
      ],
      "execution_count": null,
      "outputs": [
        {
          "output_type": "execute_result",
          "data": {
            "text/html": [
              "<div>\n",
              "<style scoped>\n",
              "    .dataframe tbody tr th:only-of-type {\n",
              "        vertical-align: middle;\n",
              "    }\n",
              "\n",
              "    .dataframe tbody tr th {\n",
              "        vertical-align: top;\n",
              "    }\n",
              "\n",
              "    .dataframe thead th {\n",
              "        text-align: right;\n",
              "    }\n",
              "</style>\n",
              "<table border=\"1\" class=\"dataframe\">\n",
              "  <thead>\n",
              "    <tr style=\"text-align: right;\">\n",
              "      <th></th>\n",
              "      <th>COUGH</th>\n",
              "      <th>MUSCLE_ACHES</th>\n",
              "      <th>TIREDNESS</th>\n",
              "      <th>SORE_THROAT</th>\n",
              "      <th>RUNNY_NOSE</th>\n",
              "      <th>STUFFY_NOSE</th>\n",
              "      <th>FEVER</th>\n",
              "      <th>NAUSEA</th>\n",
              "      <th>VOMITING</th>\n",
              "      <th>DIARRHEA</th>\n",
              "      <th>SHORTNESS_OF_BREATH</th>\n",
              "      <th>DIFFICULTY_BREATHING</th>\n",
              "      <th>LOSS_OF_TASTE</th>\n",
              "      <th>LOSS_OF_SMELL</th>\n",
              "      <th>ITCHY_NOSE</th>\n",
              "      <th>ITCHY_EYES</th>\n",
              "      <th>ITCHY_MOUTH</th>\n",
              "      <th>ITCHY_INNER_EAR</th>\n",
              "      <th>SNEEZING</th>\n",
              "      <th>PINK_EYE</th>\n",
              "      <th>TYPE</th>\n",
              "    </tr>\n",
              "  </thead>\n",
              "  <tbody>\n",
              "    <tr>\n",
              "      <th>0</th>\n",
              "      <td>0</td>\n",
              "      <td>0</td>\n",
              "      <td>1</td>\n",
              "      <td>0</td>\n",
              "      <td>1</td>\n",
              "      <td>0</td>\n",
              "      <td>0</td>\n",
              "      <td>0</td>\n",
              "      <td>0</td>\n",
              "      <td>0</td>\n",
              "      <td>0</td>\n",
              "      <td>0</td>\n",
              "      <td>1</td>\n",
              "      <td>0</td>\n",
              "      <td>1</td>\n",
              "      <td>0</td>\n",
              "      <td>0</td>\n",
              "      <td>1</td>\n",
              "      <td>0</td>\n",
              "      <td>1</td>\n",
              "      <td>ALLERGY</td>\n",
              "    </tr>\n",
              "    <tr>\n",
              "      <th>1</th>\n",
              "      <td>0</td>\n",
              "      <td>0</td>\n",
              "      <td>1</td>\n",
              "      <td>0</td>\n",
              "      <td>0</td>\n",
              "      <td>0</td>\n",
              "      <td>0</td>\n",
              "      <td>0</td>\n",
              "      <td>0</td>\n",
              "      <td>0</td>\n",
              "      <td>0</td>\n",
              "      <td>0</td>\n",
              "      <td>1</td>\n",
              "      <td>0</td>\n",
              "      <td>1</td>\n",
              "      <td>0</td>\n",
              "      <td>1</td>\n",
              "      <td>1</td>\n",
              "      <td>1</td>\n",
              "      <td>1</td>\n",
              "      <td>ALLERGY</td>\n",
              "    </tr>\n",
              "    <tr>\n",
              "      <th>2</th>\n",
              "      <td>0</td>\n",
              "      <td>1</td>\n",
              "      <td>1</td>\n",
              "      <td>1</td>\n",
              "      <td>0</td>\n",
              "      <td>0</td>\n",
              "      <td>0</td>\n",
              "      <td>0</td>\n",
              "      <td>0</td>\n",
              "      <td>0</td>\n",
              "      <td>0</td>\n",
              "      <td>0</td>\n",
              "      <td>1</td>\n",
              "      <td>0</td>\n",
              "      <td>1</td>\n",
              "      <td>0</td>\n",
              "      <td>0</td>\n",
              "      <td>0</td>\n",
              "      <td>0</td>\n",
              "      <td>1</td>\n",
              "      <td>ALLERGY</td>\n",
              "    </tr>\n",
              "    <tr>\n",
              "      <th>3</th>\n",
              "      <td>0</td>\n",
              "      <td>0</td>\n",
              "      <td>0</td>\n",
              "      <td>1</td>\n",
              "      <td>1</td>\n",
              "      <td>0</td>\n",
              "      <td>0</td>\n",
              "      <td>0</td>\n",
              "      <td>0</td>\n",
              "      <td>0</td>\n",
              "      <td>0</td>\n",
              "      <td>0</td>\n",
              "      <td>1</td>\n",
              "      <td>1</td>\n",
              "      <td>0</td>\n",
              "      <td>0</td>\n",
              "      <td>1</td>\n",
              "      <td>0</td>\n",
              "      <td>1</td>\n",
              "      <td>1</td>\n",
              "      <td>ALLERGY</td>\n",
              "    </tr>\n",
              "    <tr>\n",
              "      <th>4</th>\n",
              "      <td>0</td>\n",
              "      <td>0</td>\n",
              "      <td>1</td>\n",
              "      <td>0</td>\n",
              "      <td>1</td>\n",
              "      <td>0</td>\n",
              "      <td>0</td>\n",
              "      <td>0</td>\n",
              "      <td>0</td>\n",
              "      <td>0</td>\n",
              "      <td>0</td>\n",
              "      <td>0</td>\n",
              "      <td>1</td>\n",
              "      <td>1</td>\n",
              "      <td>0</td>\n",
              "      <td>1</td>\n",
              "      <td>0</td>\n",
              "      <td>1</td>\n",
              "      <td>1</td>\n",
              "      <td>1</td>\n",
              "      <td>ALLERGY</td>\n",
              "    </tr>\n",
              "  </tbody>\n",
              "</table>\n",
              "</div>"
            ],
            "text/plain": [
              "   COUGH  MUSCLE_ACHES  TIREDNESS  ...  SNEEZING  PINK_EYE     TYPE\n",
              "0      0             0          1  ...         0         1  ALLERGY\n",
              "1      0             0          1  ...         1         1  ALLERGY\n",
              "2      0             1          1  ...         0         1  ALLERGY\n",
              "3      0             0          0  ...         1         1  ALLERGY\n",
              "4      0             0          1  ...         1         1  ALLERGY\n",
              "\n",
              "[5 rows x 21 columns]"
            ]
          },
          "metadata": {},
          "execution_count": 8
        }
      ]
    },
    {
      "cell_type": "code",
      "metadata": {
        "colab": {
          "base_uri": "https://localhost:8080/"
        },
        "id": "-uOpw08tu3je",
        "outputId": "a8489646-9b1e-44de-8631-0be6f10d487b"
      },
      "source": [
        "df['TYPE'].unique()"
      ],
      "execution_count": null,
      "outputs": [
        {
          "output_type": "execute_result",
          "data": {
            "text/plain": [
              "array(['ALLERGY', 'COLD', 'COVID', 'FLU'], dtype=object)"
            ]
          },
          "metadata": {},
          "execution_count": 9
        }
      ]
    },
    {
      "cell_type": "code",
      "metadata": {
        "colab": {
          "base_uri": "https://localhost:8080/"
        },
        "id": "Wk5_gz7wVeRK",
        "outputId": "600000d8-2ecf-4222-99dd-b6d3b2201388"
      },
      "source": [
        "# Import label encoder\n",
        "from sklearn import preprocessing\n",
        "\n",
        "# label_encoder object knows how to understand word labels.\n",
        "label_encoder = preprocessing.LabelEncoder()\n",
        "\n",
        "# Encode labels in column 'species'.\n",
        "df['TYPE']= label_encoder.fit_transform(df['TYPE'])\n",
        "\n",
        "df['TYPE'].unique()"
      ],
      "execution_count": null,
      "outputs": [
        {
          "output_type": "execute_result",
          "data": {
            "text/plain": [
              "array([0, 1, 2, 3])"
            ]
          },
          "metadata": {},
          "execution_count": 10
        }
      ]
    },
    {
      "cell_type": "code",
      "metadata": {
        "id": "SShRQVc8VWSl"
      },
      "source": [
        "X = df.drop('TYPE', axis=1)\n",
        "\n",
        "y = df['TYPE']"
      ],
      "execution_count": null,
      "outputs": []
    },
    {
      "cell_type": "code",
      "metadata": {
        "id": "KxMvizXWWB16"
      },
      "source": [
        "df = df.sample(frac=1)"
      ],
      "execution_count": null,
      "outputs": []
    },
    {
      "cell_type": "code",
      "metadata": {
        "id": "hNExjFEBVdu4",
        "colab": {
          "base_uri": "https://localhost:8080/"
        },
        "outputId": "2da0e763-6986-4f88-e7f2-fcabce925362"
      },
      "source": [
        "from imblearn.over_sampling import SMOTE"
      ],
      "execution_count": null,
      "outputs": [
        {
          "output_type": "stream",
          "text": [
            "/usr/local/lib/python3.7/dist-packages/sklearn/externals/six.py:31: FutureWarning: The module is deprecated in version 0.21 and will be removed in version 0.23 since we've dropped support for Python 2.7. Please rely on the official version of six (https://pypi.org/project/six/).\n",
            "  \"(https://pypi.org/project/six/).\", FutureWarning)\n",
            "/usr/local/lib/python3.7/dist-packages/sklearn/utils/deprecation.py:144: FutureWarning: The sklearn.neighbors.base module is  deprecated in version 0.22 and will be removed in version 0.24. The corresponding classes / functions should instead be imported from sklearn.neighbors. Anything that cannot be imported from sklearn.neighbors is now part of the private API.\n",
            "  warnings.warn(message, FutureWarning)\n"
          ],
          "name": "stderr"
        }
      ]
    },
    {
      "cell_type": "code",
      "metadata": {
        "id": "8ugm6plNVbaa"
      },
      "source": [
        "sm = SMOTE()"
      ],
      "execution_count": null,
      "outputs": []
    },
    {
      "cell_type": "code",
      "metadata": {
        "colab": {
          "base_uri": "https://localhost:8080/"
        },
        "id": "_oHIZJG-VqDv",
        "outputId": "9935aa74-5215-4c28-92a4-5688d1bf66c2"
      },
      "source": [
        "X, y = sm.fit_resample(X,y)"
      ],
      "execution_count": null,
      "outputs": [
        {
          "output_type": "stream",
          "text": [
            "/usr/local/lib/python3.7/dist-packages/sklearn/utils/deprecation.py:87: FutureWarning: Function safe_indexing is deprecated; safe_indexing is deprecated in version 0.22 and will be removed in version 0.24.\n",
            "  warnings.warn(msg, category=FutureWarning)\n",
            "/usr/local/lib/python3.7/dist-packages/sklearn/utils/deprecation.py:87: FutureWarning: Function safe_indexing is deprecated; safe_indexing is deprecated in version 0.22 and will be removed in version 0.24.\n",
            "  warnings.warn(msg, category=FutureWarning)\n",
            "/usr/local/lib/python3.7/dist-packages/sklearn/utils/deprecation.py:87: FutureWarning: Function safe_indexing is deprecated; safe_indexing is deprecated in version 0.22 and will be removed in version 0.24.\n",
            "  warnings.warn(msg, category=FutureWarning)\n"
          ],
          "name": "stderr"
        }
      ]
    },
    {
      "cell_type": "code",
      "metadata": {
        "id": "u7zl5RFxVsmE"
      },
      "source": [
        "from sklearn.model_selection import train_test_split"
      ],
      "execution_count": null,
      "outputs": []
    },
    {
      "cell_type": "code",
      "metadata": {
        "id": "2KIxqWNcVwPP"
      },
      "source": [
        "X_train, X_test, y_train, y_test = train_test_split(X, y, test_size=0.25, stratify=y)"
      ],
      "execution_count": null,
      "outputs": []
    },
    {
      "cell_type": "code",
      "metadata": {
        "id": "DQwPuyVDVyQh"
      },
      "source": [
        "y_test = pd.DataFrame(y_test)"
      ],
      "execution_count": null,
      "outputs": []
    },
    {
      "cell_type": "code",
      "metadata": {
        "colab": {
          "base_uri": "https://localhost:8080/",
          "height": 419
        },
        "id": "aOnJHf1mvCXy",
        "outputId": "7b9c9f20-265c-4256-ad67-1a3832fa9e81"
      },
      "source": [
        "y_test"
      ],
      "execution_count": null,
      "outputs": [
        {
          "output_type": "execute_result",
          "data": {
            "text/html": [
              "<div>\n",
              "<style scoped>\n",
              "    .dataframe tbody tr th:only-of-type {\n",
              "        vertical-align: middle;\n",
              "    }\n",
              "\n",
              "    .dataframe tbody tr th {\n",
              "        vertical-align: top;\n",
              "    }\n",
              "\n",
              "    .dataframe thead th {\n",
              "        text-align: right;\n",
              "    }\n",
              "</style>\n",
              "<table border=\"1\" class=\"dataframe\">\n",
              "  <thead>\n",
              "    <tr style=\"text-align: right;\">\n",
              "      <th></th>\n",
              "      <th>0</th>\n",
              "    </tr>\n",
              "  </thead>\n",
              "  <tbody>\n",
              "    <tr>\n",
              "      <th>0</th>\n",
              "      <td>2</td>\n",
              "    </tr>\n",
              "    <tr>\n",
              "      <th>1</th>\n",
              "      <td>1</td>\n",
              "    </tr>\n",
              "    <tr>\n",
              "      <th>2</th>\n",
              "      <td>3</td>\n",
              "    </tr>\n",
              "    <tr>\n",
              "      <th>3</th>\n",
              "      <td>1</td>\n",
              "    </tr>\n",
              "    <tr>\n",
              "      <th>4</th>\n",
              "      <td>0</td>\n",
              "    </tr>\n",
              "    <tr>\n",
              "      <th>...</th>\n",
              "      <td>...</td>\n",
              "    </tr>\n",
              "    <tr>\n",
              "      <th>24995</th>\n",
              "      <td>1</td>\n",
              "    </tr>\n",
              "    <tr>\n",
              "      <th>24996</th>\n",
              "      <td>0</td>\n",
              "    </tr>\n",
              "    <tr>\n",
              "      <th>24997</th>\n",
              "      <td>0</td>\n",
              "    </tr>\n",
              "    <tr>\n",
              "      <th>24998</th>\n",
              "      <td>1</td>\n",
              "    </tr>\n",
              "    <tr>\n",
              "      <th>24999</th>\n",
              "      <td>1</td>\n",
              "    </tr>\n",
              "  </tbody>\n",
              "</table>\n",
              "<p>25000 rows × 1 columns</p>\n",
              "</div>"
            ],
            "text/plain": [
              "       0\n",
              "0      2\n",
              "1      1\n",
              "2      3\n",
              "3      1\n",
              "4      0\n",
              "...   ..\n",
              "24995  1\n",
              "24996  0\n",
              "24997  0\n",
              "24998  1\n",
              "24999  1\n",
              "\n",
              "[25000 rows x 1 columns]"
            ]
          },
          "metadata": {},
          "execution_count": 19
        }
      ]
    },
    {
      "cell_type": "code",
      "metadata": {
        "id": "0593sHaAWR3o"
      },
      "source": [
        "y_test = pd.get_dummies(y_test,columns=[0])"
      ],
      "execution_count": null,
      "outputs": []
    },
    {
      "cell_type": "code",
      "metadata": {
        "colab": {
          "base_uri": "https://localhost:8080/",
          "height": 419
        },
        "id": "jpAOJkg0WSf9",
        "outputId": "17b2c9d6-cbf4-433e-ff49-411367d5a480"
      },
      "source": [
        "y_test"
      ],
      "execution_count": null,
      "outputs": [
        {
          "output_type": "execute_result",
          "data": {
            "text/html": [
              "<div>\n",
              "<style scoped>\n",
              "    .dataframe tbody tr th:only-of-type {\n",
              "        vertical-align: middle;\n",
              "    }\n",
              "\n",
              "    .dataframe tbody tr th {\n",
              "        vertical-align: top;\n",
              "    }\n",
              "\n",
              "    .dataframe thead th {\n",
              "        text-align: right;\n",
              "    }\n",
              "</style>\n",
              "<table border=\"1\" class=\"dataframe\">\n",
              "  <thead>\n",
              "    <tr style=\"text-align: right;\">\n",
              "      <th></th>\n",
              "      <th>0_0</th>\n",
              "      <th>0_1</th>\n",
              "      <th>0_2</th>\n",
              "      <th>0_3</th>\n",
              "    </tr>\n",
              "  </thead>\n",
              "  <tbody>\n",
              "    <tr>\n",
              "      <th>0</th>\n",
              "      <td>0</td>\n",
              "      <td>0</td>\n",
              "      <td>0</td>\n",
              "      <td>1</td>\n",
              "    </tr>\n",
              "    <tr>\n",
              "      <th>1</th>\n",
              "      <td>1</td>\n",
              "      <td>0</td>\n",
              "      <td>0</td>\n",
              "      <td>0</td>\n",
              "    </tr>\n",
              "    <tr>\n",
              "      <th>2</th>\n",
              "      <td>0</td>\n",
              "      <td>0</td>\n",
              "      <td>0</td>\n",
              "      <td>1</td>\n",
              "    </tr>\n",
              "    <tr>\n",
              "      <th>3</th>\n",
              "      <td>0</td>\n",
              "      <td>0</td>\n",
              "      <td>0</td>\n",
              "      <td>1</td>\n",
              "    </tr>\n",
              "    <tr>\n",
              "      <th>4</th>\n",
              "      <td>0</td>\n",
              "      <td>1</td>\n",
              "      <td>0</td>\n",
              "      <td>0</td>\n",
              "    </tr>\n",
              "    <tr>\n",
              "      <th>...</th>\n",
              "      <td>...</td>\n",
              "      <td>...</td>\n",
              "      <td>...</td>\n",
              "      <td>...</td>\n",
              "    </tr>\n",
              "    <tr>\n",
              "      <th>24995</th>\n",
              "      <td>0</td>\n",
              "      <td>0</td>\n",
              "      <td>0</td>\n",
              "      <td>1</td>\n",
              "    </tr>\n",
              "    <tr>\n",
              "      <th>24996</th>\n",
              "      <td>0</td>\n",
              "      <td>0</td>\n",
              "      <td>1</td>\n",
              "      <td>0</td>\n",
              "    </tr>\n",
              "    <tr>\n",
              "      <th>24997</th>\n",
              "      <td>1</td>\n",
              "      <td>0</td>\n",
              "      <td>0</td>\n",
              "      <td>0</td>\n",
              "    </tr>\n",
              "    <tr>\n",
              "      <th>24998</th>\n",
              "      <td>0</td>\n",
              "      <td>0</td>\n",
              "      <td>1</td>\n",
              "      <td>0</td>\n",
              "    </tr>\n",
              "    <tr>\n",
              "      <th>24999</th>\n",
              "      <td>0</td>\n",
              "      <td>0</td>\n",
              "      <td>1</td>\n",
              "      <td>0</td>\n",
              "    </tr>\n",
              "  </tbody>\n",
              "</table>\n",
              "<p>25000 rows × 4 columns</p>\n",
              "</div>"
            ],
            "text/plain": [
              "       0_0  0_1  0_2  0_3\n",
              "0        0    0    0    1\n",
              "1        1    0    0    0\n",
              "2        0    0    0    1\n",
              "3        0    0    0    1\n",
              "4        0    1    0    0\n",
              "...    ...  ...  ...  ...\n",
              "24995    0    0    0    1\n",
              "24996    0    0    1    0\n",
              "24997    1    0    0    0\n",
              "24998    0    0    1    0\n",
              "24999    0    0    1    0\n",
              "\n",
              "[25000 rows x 4 columns]"
            ]
          },
          "metadata": {
            "tags": []
          },
          "execution_count": 31
        }
      ]
    },
    {
      "cell_type": "code",
      "metadata": {
        "id": "z7sxgGo-WYaz"
      },
      "source": [
        "y_train = pd.DataFrame(y_train)"
      ],
      "execution_count": null,
      "outputs": []
    },
    {
      "cell_type": "code",
      "metadata": {
        "id": "WRXc5E4FWasc"
      },
      "source": [
        "y_train = pd.get_dummies(y_train,columns=[0])"
      ],
      "execution_count": null,
      "outputs": []
    },
    {
      "cell_type": "code",
      "metadata": {
        "colab": {
          "base_uri": "https://localhost:8080/",
          "height": 419
        },
        "id": "RUgE06l3Wdnr",
        "outputId": "eed59fd0-d463-4006-85e8-b25dfa587d19"
      },
      "source": [
        "y_train"
      ],
      "execution_count": null,
      "outputs": [
        {
          "output_type": "execute_result",
          "data": {
            "text/html": [
              "<div>\n",
              "<style scoped>\n",
              "    .dataframe tbody tr th:only-of-type {\n",
              "        vertical-align: middle;\n",
              "    }\n",
              "\n",
              "    .dataframe tbody tr th {\n",
              "        vertical-align: top;\n",
              "    }\n",
              "\n",
              "    .dataframe thead th {\n",
              "        text-align: right;\n",
              "    }\n",
              "</style>\n",
              "<table border=\"1\" class=\"dataframe\">\n",
              "  <thead>\n",
              "    <tr style=\"text-align: right;\">\n",
              "      <th></th>\n",
              "      <th>0_0</th>\n",
              "      <th>0_1</th>\n",
              "      <th>0_2</th>\n",
              "      <th>0_3</th>\n",
              "    </tr>\n",
              "  </thead>\n",
              "  <tbody>\n",
              "    <tr>\n",
              "      <th>0</th>\n",
              "      <td>0</td>\n",
              "      <td>0</td>\n",
              "      <td>0</td>\n",
              "      <td>1</td>\n",
              "    </tr>\n",
              "    <tr>\n",
              "      <th>1</th>\n",
              "      <td>0</td>\n",
              "      <td>0</td>\n",
              "      <td>0</td>\n",
              "      <td>1</td>\n",
              "    </tr>\n",
              "    <tr>\n",
              "      <th>2</th>\n",
              "      <td>0</td>\n",
              "      <td>0</td>\n",
              "      <td>0</td>\n",
              "      <td>1</td>\n",
              "    </tr>\n",
              "    <tr>\n",
              "      <th>3</th>\n",
              "      <td>0</td>\n",
              "      <td>1</td>\n",
              "      <td>0</td>\n",
              "      <td>0</td>\n",
              "    </tr>\n",
              "    <tr>\n",
              "      <th>4</th>\n",
              "      <td>0</td>\n",
              "      <td>0</td>\n",
              "      <td>0</td>\n",
              "      <td>1</td>\n",
              "    </tr>\n",
              "    <tr>\n",
              "      <th>...</th>\n",
              "      <td>...</td>\n",
              "      <td>...</td>\n",
              "      <td>...</td>\n",
              "      <td>...</td>\n",
              "    </tr>\n",
              "    <tr>\n",
              "      <th>74995</th>\n",
              "      <td>1</td>\n",
              "      <td>0</td>\n",
              "      <td>0</td>\n",
              "      <td>0</td>\n",
              "    </tr>\n",
              "    <tr>\n",
              "      <th>74996</th>\n",
              "      <td>1</td>\n",
              "      <td>0</td>\n",
              "      <td>0</td>\n",
              "      <td>0</td>\n",
              "    </tr>\n",
              "    <tr>\n",
              "      <th>74997</th>\n",
              "      <td>0</td>\n",
              "      <td>1</td>\n",
              "      <td>0</td>\n",
              "      <td>0</td>\n",
              "    </tr>\n",
              "    <tr>\n",
              "      <th>74998</th>\n",
              "      <td>0</td>\n",
              "      <td>1</td>\n",
              "      <td>0</td>\n",
              "      <td>0</td>\n",
              "    </tr>\n",
              "    <tr>\n",
              "      <th>74999</th>\n",
              "      <td>0</td>\n",
              "      <td>1</td>\n",
              "      <td>0</td>\n",
              "      <td>0</td>\n",
              "    </tr>\n",
              "  </tbody>\n",
              "</table>\n",
              "<p>75000 rows × 4 columns</p>\n",
              "</div>"
            ],
            "text/plain": [
              "       0_0  0_1  0_2  0_3\n",
              "0        0    0    0    1\n",
              "1        0    0    0    1\n",
              "2        0    0    0    1\n",
              "3        0    1    0    0\n",
              "4        0    0    0    1\n",
              "...    ...  ...  ...  ...\n",
              "74995    1    0    0    0\n",
              "74996    1    0    0    0\n",
              "74997    0    1    0    0\n",
              "74998    0    1    0    0\n",
              "74999    0    1    0    0\n",
              "\n",
              "[75000 rows x 4 columns]"
            ]
          },
          "metadata": {
            "tags": []
          },
          "execution_count": 37
        }
      ]
    },
    {
      "cell_type": "code",
      "metadata": {
        "id": "6zm0-gqdWfB4"
      },
      "source": [
        "from tensorflow.keras.models import Sequential"
      ],
      "execution_count": null,
      "outputs": []
    },
    {
      "cell_type": "code",
      "metadata": {
        "id": "pcDgTG8yWpTH"
      },
      "source": [
        "from tensorflow.keras.layers import Dense, Dropout"
      ],
      "execution_count": null,
      "outputs": []
    },
    {
      "cell_type": "code",
      "metadata": {
        "id": "px3afgYaWrew"
      },
      "source": [
        "model = Sequential()\n",
        "\n",
        "model.add(Dense(128, activation='relu'))\n",
        "model.add(Dropout(0.25))\n",
        "\n",
        "model.add(Dense(32, activation='relu'))\n",
        "model.add(Dropout(0.10))\n",
        "\n",
        "model.add(Dense(4, activation='softmax'))\n",
        "\n",
        "model.compile(loss='categorical_crossentropy', optimizer='rmsprop', metrics=['accuracy'])"
      ],
      "execution_count": null,
      "outputs": []
    },
    {
      "cell_type": "code",
      "metadata": {
        "id": "R3tJSBYqWsAa"
      },
      "source": [
        "from tensorflow.keras.callbacks import EarlyStopping"
      ],
      "execution_count": null,
      "outputs": []
    },
    {
      "cell_type": "code",
      "metadata": {
        "id": "R3CCj9gbWxHJ"
      },
      "source": [
        "early_stop = EarlyStopping(monitor='val_loss', mode='min', patience=25)"
      ],
      "execution_count": null,
      "outputs": []
    },
    {
      "cell_type": "code",
      "metadata": {
        "id": "zqJG8FqXW1fD"
      },
      "source": [
        "validation_data = (X_test, y_test)"
      ],
      "execution_count": null,
      "outputs": []
    },
    {
      "cell_type": "code",
      "metadata": {
        "colab": {
          "base_uri": "https://localhost:8080/"
        },
        "id": "8k6dvmyqW5Vc",
        "outputId": "692c7c3a-38d1-45ac-c753-467e195c529d"
      },
      "source": [
        "result = model.fit(X_train, y_train, validation_data=validation_data, epochs=600, callbacks=[early_stop])"
      ],
      "execution_count": null,
      "outputs": [
        {
          "output_type": "stream",
          "text": [
            "Epoch 1/600\n",
            "2344/2344 [==============================] - 6s 2ms/step - loss: 0.2146 - accuracy: 0.9368 - val_loss: 0.1530 - val_accuracy: 0.9550\n",
            "Epoch 2/600\n",
            "2344/2344 [==============================] - 5s 2ms/step - loss: 0.1695 - accuracy: 0.9505 - val_loss: 0.1528 - val_accuracy: 0.9550\n",
            "Epoch 3/600\n",
            "2344/2344 [==============================] - 5s 2ms/step - loss: 0.1688 - accuracy: 0.9503 - val_loss: 0.1514 - val_accuracy: 0.9550\n",
            "Epoch 4/600\n",
            "2344/2344 [==============================] - 5s 2ms/step - loss: 0.1674 - accuracy: 0.9503 - val_loss: 0.1526 - val_accuracy: 0.9550\n",
            "Epoch 5/600\n",
            "2344/2344 [==============================] - 5s 2ms/step - loss: 0.1670 - accuracy: 0.9504 - val_loss: 0.1531 - val_accuracy: 0.9550\n",
            "Epoch 6/600\n",
            "2344/2344 [==============================] - 5s 2ms/step - loss: 0.1662 - accuracy: 0.9504 - val_loss: 0.1497 - val_accuracy: 0.9550\n",
            "Epoch 7/600\n",
            "2344/2344 [==============================] - 5s 2ms/step - loss: 0.1654 - accuracy: 0.9505 - val_loss: 0.1510 - val_accuracy: 0.9550\n",
            "Epoch 8/600\n",
            "2344/2344 [==============================] - 4s 2ms/step - loss: 0.1650 - accuracy: 0.9507 - val_loss: 0.1503 - val_accuracy: 0.9550\n",
            "Epoch 9/600\n",
            "2344/2344 [==============================] - 5s 2ms/step - loss: 0.1646 - accuracy: 0.9506 - val_loss: 0.1497 - val_accuracy: 0.9550\n",
            "Epoch 10/600\n",
            "2344/2344 [==============================] - 5s 2ms/step - loss: 0.1661 - accuracy: 0.9506 - val_loss: 0.1483 - val_accuracy: 0.9550\n",
            "Epoch 11/600\n",
            "2344/2344 [==============================] - 4s 2ms/step - loss: 0.1653 - accuracy: 0.9507 - val_loss: 0.1500 - val_accuracy: 0.9550\n",
            "Epoch 12/600\n",
            "2344/2344 [==============================] - 5s 2ms/step - loss: 0.1653 - accuracy: 0.9505 - val_loss: 0.1498 - val_accuracy: 0.9532\n",
            "Epoch 13/600\n",
            "2344/2344 [==============================] - 5s 2ms/step - loss: 0.1655 - accuracy: 0.9505 - val_loss: 0.1515 - val_accuracy: 0.9540\n",
            "Epoch 14/600\n",
            "2344/2344 [==============================] - 5s 2ms/step - loss: 0.1685 - accuracy: 0.9506 - val_loss: 0.1528 - val_accuracy: 0.9550\n",
            "Epoch 15/600\n",
            "2344/2344 [==============================] - 4s 2ms/step - loss: 0.1696 - accuracy: 0.9504 - val_loss: 0.1520 - val_accuracy: 0.9550\n",
            "Epoch 16/600\n",
            "2344/2344 [==============================] - 5s 2ms/step - loss: 0.1682 - accuracy: 0.9508 - val_loss: 0.1516 - val_accuracy: 0.9550\n",
            "Epoch 17/600\n",
            "2344/2344 [==============================] - 4s 2ms/step - loss: 0.1678 - accuracy: 0.9503 - val_loss: 0.1514 - val_accuracy: 0.9550\n",
            "Epoch 18/600\n",
            "2344/2344 [==============================] - 4s 2ms/step - loss: 0.1693 - accuracy: 0.9501 - val_loss: 0.1514 - val_accuracy: 0.9550\n",
            "Epoch 19/600\n",
            "2344/2344 [==============================] - 5s 2ms/step - loss: 0.1690 - accuracy: 0.9503 - val_loss: 0.1510 - val_accuracy: 0.9550\n",
            "Epoch 20/600\n",
            "2344/2344 [==============================] - 5s 2ms/step - loss: 0.1699 - accuracy: 0.9501 - val_loss: 0.1512 - val_accuracy: 0.9550\n",
            "Epoch 21/600\n",
            "2344/2344 [==============================] - 5s 2ms/step - loss: 0.1694 - accuracy: 0.9501 - val_loss: 0.1543 - val_accuracy: 0.9550\n",
            "Epoch 22/600\n",
            "2344/2344 [==============================] - 5s 2ms/step - loss: 0.1709 - accuracy: 0.9502 - val_loss: 0.1537 - val_accuracy: 0.9550\n",
            "Epoch 23/600\n",
            "2344/2344 [==============================] - 5s 2ms/step - loss: 0.1721 - accuracy: 0.9499 - val_loss: 0.1548 - val_accuracy: 0.9550\n",
            "Epoch 24/600\n",
            "2344/2344 [==============================] - 5s 2ms/step - loss: 0.1718 - accuracy: 0.9498 - val_loss: 0.1495 - val_accuracy: 0.9550\n",
            "Epoch 25/600\n",
            "2344/2344 [==============================] - 5s 2ms/step - loss: 0.1723 - accuracy: 0.9499 - val_loss: 0.1533 - val_accuracy: 0.9550\n",
            "Epoch 26/600\n",
            "2344/2344 [==============================] - 4s 2ms/step - loss: 0.1728 - accuracy: 0.9497 - val_loss: 0.1516 - val_accuracy: 0.9550\n",
            "Epoch 27/600\n",
            "2344/2344 [==============================] - 4s 2ms/step - loss: 0.1734 - accuracy: 0.9497 - val_loss: 0.1500 - val_accuracy: 0.9550\n",
            "Epoch 28/600\n",
            "2344/2344 [==============================] - 5s 2ms/step - loss: 0.1747 - accuracy: 0.9500 - val_loss: 0.1573 - val_accuracy: 0.9550\n",
            "Epoch 29/600\n",
            "2344/2344 [==============================] - 5s 2ms/step - loss: 0.1747 - accuracy: 0.9499 - val_loss: 0.1524 - val_accuracy: 0.9550\n",
            "Epoch 30/600\n",
            "2344/2344 [==============================] - 4s 2ms/step - loss: 0.1762 - accuracy: 0.9495 - val_loss: 0.1513 - val_accuracy: 0.9550\n",
            "Epoch 31/600\n",
            "2344/2344 [==============================] - 5s 2ms/step - loss: 0.1748 - accuracy: 0.9497 - val_loss: 0.1534 - val_accuracy: 0.9550\n",
            "Epoch 32/600\n",
            "2344/2344 [==============================] - 5s 2ms/step - loss: 0.1738 - accuracy: 0.9499 - val_loss: 0.1576 - val_accuracy: 0.9549\n",
            "Epoch 33/600\n",
            "2344/2344 [==============================] - 5s 2ms/step - loss: 0.1743 - accuracy: 0.9498 - val_loss: 0.1537 - val_accuracy: 0.9550\n",
            "Epoch 34/600\n",
            "2344/2344 [==============================] - 5s 2ms/step - loss: 0.1751 - accuracy: 0.9497 - val_loss: 0.1552 - val_accuracy: 0.9550\n",
            "Epoch 35/600\n",
            "2344/2344 [==============================] - 5s 2ms/step - loss: 0.1725 - accuracy: 0.9503 - val_loss: 0.1545 - val_accuracy: 0.9549\n"
          ],
          "name": "stdout"
        }
      ]
    },
    {
      "cell_type": "code",
      "metadata": {
        "id": "IfpoPZaoXD89"
      },
      "source": [
        "losses = pd.DataFrame(model.history.history)"
      ],
      "execution_count": null,
      "outputs": []
    },
    {
      "cell_type": "code",
      "metadata": {
        "colab": {
          "base_uri": "https://localhost:8080/",
          "height": 1000
        },
        "id": "TdoUdCAgX5bh",
        "outputId": "abd479f1-1a65-4f93-efb3-5438e3435d43"
      },
      "source": [
        "losses"
      ],
      "execution_count": null,
      "outputs": [
        {
          "output_type": "execute_result",
          "data": {
            "text/html": [
              "<div>\n",
              "<style scoped>\n",
              "    .dataframe tbody tr th:only-of-type {\n",
              "        vertical-align: middle;\n",
              "    }\n",
              "\n",
              "    .dataframe tbody tr th {\n",
              "        vertical-align: top;\n",
              "    }\n",
              "\n",
              "    .dataframe thead th {\n",
              "        text-align: right;\n",
              "    }\n",
              "</style>\n",
              "<table border=\"1\" class=\"dataframe\">\n",
              "  <thead>\n",
              "    <tr style=\"text-align: right;\">\n",
              "      <th></th>\n",
              "      <th>loss</th>\n",
              "      <th>accuracy</th>\n",
              "      <th>val_loss</th>\n",
              "      <th>val_accuracy</th>\n",
              "    </tr>\n",
              "  </thead>\n",
              "  <tbody>\n",
              "    <tr>\n",
              "      <th>0</th>\n",
              "      <td>0.214596</td>\n",
              "      <td>0.936813</td>\n",
              "      <td>0.152979</td>\n",
              "      <td>0.95500</td>\n",
              "    </tr>\n",
              "    <tr>\n",
              "      <th>1</th>\n",
              "      <td>0.169459</td>\n",
              "      <td>0.950480</td>\n",
              "      <td>0.152770</td>\n",
              "      <td>0.95500</td>\n",
              "    </tr>\n",
              "    <tr>\n",
              "      <th>2</th>\n",
              "      <td>0.168767</td>\n",
              "      <td>0.950307</td>\n",
              "      <td>0.151384</td>\n",
              "      <td>0.95500</td>\n",
              "    </tr>\n",
              "    <tr>\n",
              "      <th>3</th>\n",
              "      <td>0.167373</td>\n",
              "      <td>0.950320</td>\n",
              "      <td>0.152559</td>\n",
              "      <td>0.95500</td>\n",
              "    </tr>\n",
              "    <tr>\n",
              "      <th>4</th>\n",
              "      <td>0.167006</td>\n",
              "      <td>0.950413</td>\n",
              "      <td>0.153052</td>\n",
              "      <td>0.95500</td>\n",
              "    </tr>\n",
              "    <tr>\n",
              "      <th>5</th>\n",
              "      <td>0.166219</td>\n",
              "      <td>0.950373</td>\n",
              "      <td>0.149656</td>\n",
              "      <td>0.95500</td>\n",
              "    </tr>\n",
              "    <tr>\n",
              "      <th>6</th>\n",
              "      <td>0.165415</td>\n",
              "      <td>0.950493</td>\n",
              "      <td>0.151017</td>\n",
              "      <td>0.95500</td>\n",
              "    </tr>\n",
              "    <tr>\n",
              "      <th>7</th>\n",
              "      <td>0.164956</td>\n",
              "      <td>0.950733</td>\n",
              "      <td>0.150346</td>\n",
              "      <td>0.95500</td>\n",
              "    </tr>\n",
              "    <tr>\n",
              "      <th>8</th>\n",
              "      <td>0.164577</td>\n",
              "      <td>0.950640</td>\n",
              "      <td>0.149714</td>\n",
              "      <td>0.95500</td>\n",
              "    </tr>\n",
              "    <tr>\n",
              "      <th>9</th>\n",
              "      <td>0.166099</td>\n",
              "      <td>0.950613</td>\n",
              "      <td>0.148313</td>\n",
              "      <td>0.95500</td>\n",
              "    </tr>\n",
              "    <tr>\n",
              "      <th>10</th>\n",
              "      <td>0.165296</td>\n",
              "      <td>0.950707</td>\n",
              "      <td>0.150038</td>\n",
              "      <td>0.95500</td>\n",
              "    </tr>\n",
              "    <tr>\n",
              "      <th>11</th>\n",
              "      <td>0.165295</td>\n",
              "      <td>0.950453</td>\n",
              "      <td>0.149761</td>\n",
              "      <td>0.95324</td>\n",
              "    </tr>\n",
              "    <tr>\n",
              "      <th>12</th>\n",
              "      <td>0.165510</td>\n",
              "      <td>0.950520</td>\n",
              "      <td>0.151540</td>\n",
              "      <td>0.95404</td>\n",
              "    </tr>\n",
              "    <tr>\n",
              "      <th>13</th>\n",
              "      <td>0.168471</td>\n",
              "      <td>0.950560</td>\n",
              "      <td>0.152753</td>\n",
              "      <td>0.95500</td>\n",
              "    </tr>\n",
              "    <tr>\n",
              "      <th>14</th>\n",
              "      <td>0.169569</td>\n",
              "      <td>0.950400</td>\n",
              "      <td>0.152003</td>\n",
              "      <td>0.95500</td>\n",
              "    </tr>\n",
              "    <tr>\n",
              "      <th>15</th>\n",
              "      <td>0.168243</td>\n",
              "      <td>0.950840</td>\n",
              "      <td>0.151612</td>\n",
              "      <td>0.95500</td>\n",
              "    </tr>\n",
              "    <tr>\n",
              "      <th>16</th>\n",
              "      <td>0.167839</td>\n",
              "      <td>0.950267</td>\n",
              "      <td>0.151358</td>\n",
              "      <td>0.95500</td>\n",
              "    </tr>\n",
              "    <tr>\n",
              "      <th>17</th>\n",
              "      <td>0.169261</td>\n",
              "      <td>0.950067</td>\n",
              "      <td>0.151354</td>\n",
              "      <td>0.95500</td>\n",
              "    </tr>\n",
              "    <tr>\n",
              "      <th>18</th>\n",
              "      <td>0.169044</td>\n",
              "      <td>0.950293</td>\n",
              "      <td>0.150993</td>\n",
              "      <td>0.95500</td>\n",
              "    </tr>\n",
              "    <tr>\n",
              "      <th>19</th>\n",
              "      <td>0.169909</td>\n",
              "      <td>0.950093</td>\n",
              "      <td>0.151204</td>\n",
              "      <td>0.95500</td>\n",
              "    </tr>\n",
              "    <tr>\n",
              "      <th>20</th>\n",
              "      <td>0.169412</td>\n",
              "      <td>0.950093</td>\n",
              "      <td>0.154334</td>\n",
              "      <td>0.95500</td>\n",
              "    </tr>\n",
              "    <tr>\n",
              "      <th>21</th>\n",
              "      <td>0.170868</td>\n",
              "      <td>0.950213</td>\n",
              "      <td>0.153662</td>\n",
              "      <td>0.95500</td>\n",
              "    </tr>\n",
              "    <tr>\n",
              "      <th>22</th>\n",
              "      <td>0.172075</td>\n",
              "      <td>0.949893</td>\n",
              "      <td>0.154768</td>\n",
              "      <td>0.95500</td>\n",
              "    </tr>\n",
              "    <tr>\n",
              "      <th>23</th>\n",
              "      <td>0.171765</td>\n",
              "      <td>0.949827</td>\n",
              "      <td>0.149458</td>\n",
              "      <td>0.95500</td>\n",
              "    </tr>\n",
              "    <tr>\n",
              "      <th>24</th>\n",
              "      <td>0.172325</td>\n",
              "      <td>0.949853</td>\n",
              "      <td>0.153335</td>\n",
              "      <td>0.95500</td>\n",
              "    </tr>\n",
              "    <tr>\n",
              "      <th>25</th>\n",
              "      <td>0.172795</td>\n",
              "      <td>0.949707</td>\n",
              "      <td>0.151648</td>\n",
              "      <td>0.95500</td>\n",
              "    </tr>\n",
              "    <tr>\n",
              "      <th>26</th>\n",
              "      <td>0.173399</td>\n",
              "      <td>0.949667</td>\n",
              "      <td>0.150030</td>\n",
              "      <td>0.95496</td>\n",
              "    </tr>\n",
              "    <tr>\n",
              "      <th>27</th>\n",
              "      <td>0.174678</td>\n",
              "      <td>0.949973</td>\n",
              "      <td>0.157277</td>\n",
              "      <td>0.95496</td>\n",
              "    </tr>\n",
              "    <tr>\n",
              "      <th>28</th>\n",
              "      <td>0.174744</td>\n",
              "      <td>0.949933</td>\n",
              "      <td>0.152440</td>\n",
              "      <td>0.95496</td>\n",
              "    </tr>\n",
              "    <tr>\n",
              "      <th>29</th>\n",
              "      <td>0.176159</td>\n",
              "      <td>0.949467</td>\n",
              "      <td>0.151340</td>\n",
              "      <td>0.95500</td>\n",
              "    </tr>\n",
              "    <tr>\n",
              "      <th>30</th>\n",
              "      <td>0.174769</td>\n",
              "      <td>0.949747</td>\n",
              "      <td>0.153364</td>\n",
              "      <td>0.95496</td>\n",
              "    </tr>\n",
              "    <tr>\n",
              "      <th>31</th>\n",
              "      <td>0.173792</td>\n",
              "      <td>0.949893</td>\n",
              "      <td>0.157581</td>\n",
              "      <td>0.95488</td>\n",
              "    </tr>\n",
              "    <tr>\n",
              "      <th>32</th>\n",
              "      <td>0.174305</td>\n",
              "      <td>0.949773</td>\n",
              "      <td>0.153728</td>\n",
              "      <td>0.95500</td>\n",
              "    </tr>\n",
              "    <tr>\n",
              "      <th>33</th>\n",
              "      <td>0.175065</td>\n",
              "      <td>0.949720</td>\n",
              "      <td>0.155172</td>\n",
              "      <td>0.95500</td>\n",
              "    </tr>\n",
              "    <tr>\n",
              "      <th>34</th>\n",
              "      <td>0.172457</td>\n",
              "      <td>0.950253</td>\n",
              "      <td>0.154517</td>\n",
              "      <td>0.95492</td>\n",
              "    </tr>\n",
              "  </tbody>\n",
              "</table>\n",
              "</div>"
            ],
            "text/plain": [
              "        loss  accuracy  val_loss  val_accuracy\n",
              "0   0.214596  0.936813  0.152979       0.95500\n",
              "1   0.169459  0.950480  0.152770       0.95500\n",
              "2   0.168767  0.950307  0.151384       0.95500\n",
              "3   0.167373  0.950320  0.152559       0.95500\n",
              "4   0.167006  0.950413  0.153052       0.95500\n",
              "5   0.166219  0.950373  0.149656       0.95500\n",
              "6   0.165415  0.950493  0.151017       0.95500\n",
              "7   0.164956  0.950733  0.150346       0.95500\n",
              "8   0.164577  0.950640  0.149714       0.95500\n",
              "9   0.166099  0.950613  0.148313       0.95500\n",
              "10  0.165296  0.950707  0.150038       0.95500\n",
              "11  0.165295  0.950453  0.149761       0.95324\n",
              "12  0.165510  0.950520  0.151540       0.95404\n",
              "13  0.168471  0.950560  0.152753       0.95500\n",
              "14  0.169569  0.950400  0.152003       0.95500\n",
              "15  0.168243  0.950840  0.151612       0.95500\n",
              "16  0.167839  0.950267  0.151358       0.95500\n",
              "17  0.169261  0.950067  0.151354       0.95500\n",
              "18  0.169044  0.950293  0.150993       0.95500\n",
              "19  0.169909  0.950093  0.151204       0.95500\n",
              "20  0.169412  0.950093  0.154334       0.95500\n",
              "21  0.170868  0.950213  0.153662       0.95500\n",
              "22  0.172075  0.949893  0.154768       0.95500\n",
              "23  0.171765  0.949827  0.149458       0.95500\n",
              "24  0.172325  0.949853  0.153335       0.95500\n",
              "25  0.172795  0.949707  0.151648       0.95500\n",
              "26  0.173399  0.949667  0.150030       0.95496\n",
              "27  0.174678  0.949973  0.157277       0.95496\n",
              "28  0.174744  0.949933  0.152440       0.95496\n",
              "29  0.176159  0.949467  0.151340       0.95500\n",
              "30  0.174769  0.949747  0.153364       0.95496\n",
              "31  0.173792  0.949893  0.157581       0.95488\n",
              "32  0.174305  0.949773  0.153728       0.95500\n",
              "33  0.175065  0.949720  0.155172       0.95500\n",
              "34  0.172457  0.950253  0.154517       0.95492"
            ]
          },
          "metadata": {
            "tags": []
          },
          "execution_count": 64
        }
      ]
    },
    {
      "cell_type": "code",
      "metadata": {
        "colab": {
          "base_uri": "https://localhost:8080/",
          "height": 282
        },
        "id": "aTd5SsuYYFgz",
        "outputId": "e9c2111c-d451-4814-9a26-a6e6d16b92bd"
      },
      "source": [
        "losses[['val_accuracy', 'accuracy']].plot()"
      ],
      "execution_count": null,
      "outputs": [
        {
          "output_type": "execute_result",
          "data": {
            "text/plain": [
              "<matplotlib.axes._subplots.AxesSubplot at 0x7f3756146450>"
            ]
          },
          "metadata": {
            "tags": []
          },
          "execution_count": 65
        },
        {
          "output_type": "display_data",
          "data": {
            "image/png": "[encoded data removed]",
            "text/plain": [
              "<Figure size 432x288 with 1 Axes>"
            ]
          },
          "metadata": {
            "tags": [],
            "needs_background": "light"
          }
        }
      ]
    },
    {
      "cell_type": "code",
      "metadata": {
        "colab": {
          "base_uri": "https://localhost:8080/",
          "height": 282
        },
        "id": "tp6P6CeQYISk",
        "outputId": "650d213c-1bf0-4c67-943e-95f53c8d0645"
      },
      "source": [
        "losses[['val_loss', 'loss']].plot()"
      ],
      "execution_count": null,
      "outputs": [
        {
          "output_type": "execute_result",
          "data": {
            "text/plain": [
              "<matplotlib.axes._subplots.AxesSubplot at 0x7f37560b7990>"
            ]
          },
          "metadata": {
            "tags": []
          },
          "execution_count": 66
        },
        {
          "output_type": "display_data",
          "data": {
            "image/png": "[encoded data removed]",
            "text/plain": [
              "<Figure size 432x288 with 1 Axes>"
            ]
          },
          "metadata": {
            "tags": [],
            "needs_background": "light"
          }
        }
      ]
    },
    {
      "cell_type": "code",
      "metadata": {
        "id": "h3OAakMJYRO1"
      },
      "source": [
        "preds = model.predict(X_test)"
      ],
      "execution_count": null,
      "outputs": []
    },
    {
      "cell_type": "code",
      "metadata": {
        "id": "jB4a20kTYeb7"
      },
      "source": [
        "predictions = np.argmax(preds, axis=1)"
      ],
      "execution_count": null,
      "outputs": []
    },
    {
      "cell_type": "code",
      "metadata": {
        "id": "TlWjtBLrYhlp"
      },
      "source": [
        "predictions_df = pd.DataFrame(predictions)"
      ],
      "execution_count": null,
      "outputs": []
    },
    {
      "cell_type": "code",
      "metadata": {
        "id": "xGoF4z9zYlhB"
      },
      "source": [
        "predictions_df = pd.get_dummies(predictions_df, columns=[0])"
      ],
      "execution_count": null,
      "outputs": []
    },
    {
      "cell_type": "code",
      "metadata": {
        "id": "EZOe830rYmhX"
      },
      "source": [
        "from sklearn.metrics import classification_report, confusion_matrix"
      ],
      "execution_count": null,
      "outputs": []
    },
    {
      "cell_type": "code",
      "metadata": {
        "colab": {
          "base_uri": "https://localhost:8080/",
          "height": 419
        },
        "id": "kq03pxGDYzrk",
        "outputId": "02c72a00-e30c-465c-c0f1-97d74cd4bf92"
      },
      "source": [
        "y_test"
      ],
      "execution_count": null,
      "outputs": [
        {
          "output_type": "execute_result",
          "data": {
            "text/html": [
              "<div>\n",
              "<style scoped>\n",
              "    .dataframe tbody tr th:only-of-type {\n",
              "        vertical-align: middle;\n",
              "    }\n",
              "\n",
              "    .dataframe tbody tr th {\n",
              "        vertical-align: top;\n",
              "    }\n",
              "\n",
              "    .dataframe thead th {\n",
              "        text-align: right;\n",
              "    }\n",
              "</style>\n",
              "<table border=\"1\" class=\"dataframe\">\n",
              "  <thead>\n",
              "    <tr style=\"text-align: right;\">\n",
              "      <th></th>\n",
              "      <th>0_0</th>\n",
              "      <th>0_1</th>\n",
              "      <th>0_2</th>\n",
              "      <th>0_3</th>\n",
              "    </tr>\n",
              "  </thead>\n",
              "  <tbody>\n",
              "    <tr>\n",
              "      <th>0</th>\n",
              "      <td>0</td>\n",
              "      <td>0</td>\n",
              "      <td>0</td>\n",
              "      <td>1</td>\n",
              "    </tr>\n",
              "    <tr>\n",
              "      <th>1</th>\n",
              "      <td>1</td>\n",
              "      <td>0</td>\n",
              "      <td>0</td>\n",
              "      <td>0</td>\n",
              "    </tr>\n",
              "    <tr>\n",
              "      <th>2</th>\n",
              "      <td>0</td>\n",
              "      <td>0</td>\n",
              "      <td>0</td>\n",
              "      <td>1</td>\n",
              "    </tr>\n",
              "    <tr>\n",
              "      <th>3</th>\n",
              "      <td>0</td>\n",
              "      <td>0</td>\n",
              "      <td>0</td>\n",
              "      <td>1</td>\n",
              "    </tr>\n",
              "    <tr>\n",
              "      <th>4</th>\n",
              "      <td>0</td>\n",
              "      <td>1</td>\n",
              "      <td>0</td>\n",
              "      <td>0</td>\n",
              "    </tr>\n",
              "    <tr>\n",
              "      <th>...</th>\n",
              "      <td>...</td>\n",
              "      <td>...</td>\n",
              "      <td>...</td>\n",
              "      <td>...</td>\n",
              "    </tr>\n",
              "    <tr>\n",
              "      <th>24995</th>\n",
              "      <td>0</td>\n",
              "      <td>0</td>\n",
              "      <td>0</td>\n",
              "      <td>1</td>\n",
              "    </tr>\n",
              "    <tr>\n",
              "      <th>24996</th>\n",
              "      <td>0</td>\n",
              "      <td>0</td>\n",
              "      <td>1</td>\n",
              "      <td>0</td>\n",
              "    </tr>\n",
              "    <tr>\n",
              "      <th>24997</th>\n",
              "      <td>1</td>\n",
              "      <td>0</td>\n",
              "      <td>0</td>\n",
              "      <td>0</td>\n",
              "    </tr>\n",
              "    <tr>\n",
              "      <th>24998</th>\n",
              "      <td>0</td>\n",
              "      <td>0</td>\n",
              "      <td>1</td>\n",
              "      <td>0</td>\n",
              "    </tr>\n",
              "    <tr>\n",
              "      <th>24999</th>\n",
              "      <td>0</td>\n",
              "      <td>0</td>\n",
              "      <td>1</td>\n",
              "      <td>0</td>\n",
              "    </tr>\n",
              "  </tbody>\n",
              "</table>\n",
              "<p>25000 rows × 4 columns</p>\n",
              "</div>"
            ],
            "text/plain": [
              "       0_0  0_1  0_2  0_3\n",
              "0        0    0    0    1\n",
              "1        1    0    0    0\n",
              "2        0    0    0    1\n",
              "3        0    0    0    1\n",
              "4        0    1    0    0\n",
              "...    ...  ...  ...  ...\n",
              "24995    0    0    0    1\n",
              "24996    0    0    1    0\n",
              "24997    1    0    0    0\n",
              "24998    0    0    1    0\n",
              "24999    0    0    1    0\n",
              "\n",
              "[25000 rows x 4 columns]"
            ]
          },
          "metadata": {
            "tags": []
          },
          "execution_count": 72
        }
      ]
    },
    {
      "cell_type": "code",
      "metadata": {
        "colab": {
          "base_uri": "https://localhost:8080/"
        },
        "id": "qLuCB8ZGYujq",
        "outputId": "687cf7ad-fd29-4704-aa57-460da6ee63ac"
      },
      "source": [
        "print(classification_report(y_test, predictions_df))"
      ],
      "execution_count": null,
      "outputs": [
        {
          "output_type": "stream",
          "text": [
            "              precision    recall  f1-score   support\n",
            "\n",
            "           0       1.00      0.96      0.98      6250\n",
            "           1       0.91      0.98      0.94      6250\n",
            "           2       0.91      0.96      0.93      6250\n",
            "           3       1.00      0.91      0.95      6250\n",
            "\n",
            "   micro avg       0.95      0.95      0.95     25000\n",
            "   macro avg       0.96      0.95      0.95     25000\n",
            "weighted avg       0.96      0.95      0.95     25000\n",
            " samples avg       0.95      0.95      0.95     25000\n",
            "\n"
          ],
          "name": "stdout"
        }
      ]
    },
    {
      "cell_type": "code",
      "metadata": {
        "colab": {
          "base_uri": "https://localhost:8080/"
        },
        "id": "WCxZ6RSzYych",
        "outputId": "5babad54-6067-42aa-a29e-47092e9f7cfb"
      },
      "source": [
        "print(classification_report(y_test, predictions_df))"
      ],
      "execution_count": null,
      "outputs": [
        {
          "output_type": "stream",
          "text": [
            "              precision    recall  f1-score   support\n",
            "\n",
            "           0       1.00      0.96      0.98      6250\n",
            "           1       0.90      1.00      0.95      6250\n",
            "           2       0.93      0.95      0.94      6250\n",
            "           3       1.00      0.91      0.95      6250\n",
            "\n",
            "   micro avg       0.95      0.95      0.95     25000\n",
            "   macro avg       0.96      0.95      0.96     25000\n",
            "weighted avg       0.96      0.95      0.96     25000\n",
            " samples avg       0.95      0.95      0.95     25000\n",
            "\n"
          ],
          "name": "stdout"
        }
      ]
    },
    {
      "cell_type": "code",
      "metadata": {
        "id": "pptPNNzPZzvJ"
      },
      "source": [],
      "execution_count": null,
      "outputs": []
    }
  ]
}